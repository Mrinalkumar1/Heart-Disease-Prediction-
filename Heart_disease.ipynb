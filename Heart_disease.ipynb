{
  "nbformat": 4,
  "nbformat_minor": 0,
  "metadata": {
    "colab": {
      "name": "Heart disease",
      "provenance": [],
      "collapsed_sections": [],
      "mount_file_id": "1ecVdXgDHlnH0zwuqAMuVr2jH3-4H2x5L",
      "authorship_tag": "ABX9TyM3GztmCE9E1mg+HxjZUimz",
      "include_colab_link": true
    },
    "kernelspec": {
      "name": "python3",
      "display_name": "Python 3"
    }
  },
  "cells": [
    {
      "cell_type": "markdown",
      "metadata": {
        "id": "view-in-github",
        "colab_type": "text"
      },
      "source": [
        "<a href=\"https://colab.research.google.com/github/Mrinalkumar1/Heart-Disease-Prediction-/blob/main/Heart_disease.ipynb\" target=\"_parent\"><img src=\"https://colab.research.google.com/assets/colab-badge.svg\" alt=\"Open In Colab\"/></a>"
      ]
    },
    {
      "cell_type": "markdown",
      "metadata": {
        "id": "rMnJuoYkp3OY"
      },
      "source": [
        "According to World Health Organization, Cardiovascular diseases (CVDs) are the number 1 cause of death globally, taking an estimated 17.9 million lives each year. CVDs are a group of disorders of the heart and blood vessels and include coronary heart disease, cerebrovascular disease, rheumatic heart disease and other conditions. Four out of 5CVD deaths are due to heart attacks and strokes, and one third of these deaths occur prematurely in people under 70 years of age.\r\n",
        "\r\n",
        "Individuals at risk of CVD may demonstrate raised blood pressure, glucose, and lipids as well as overweight and obesity. These can all be easily measured in primary care facilities. Identifying those at highest risk of CVDs and ensuring they receive appropriate treatment can prevent premature deaths. Access to essential noncommunicable disease medicines and basic health technologies in all primary health care facilities is essential to ensure that those in need receive treatment and counselling.\r\n",
        "\r\n",
        "**Appendix** :\r\n",
        "https://www.who.int/en/news-room/fact-sheets/detail/cardiovascular-diseases-(cvds)\r\n",
        "\r\n",
        "**Dataset source reference** :\r\n",
        "https://www.kaggle.com/amanajmera1/framingham-heart-study-dataset/data\r\n"
      ]
    },
    {
      "cell_type": "markdown",
      "metadata": {
        "id": "uLbl7RjOskR-"
      },
      "source": [
        "**About Dataset**\r\n",
        "\r\n",
        "\r\n",
        "1. male : Whether the person is male or female\r\n",
        "2. age  : Age of the person when he/she took the test, 0 = Female; 1 = Male\r\n",
        "3. education : Highest education level, 1 = Some High School; 2 = High School or GED; 3 = Some College or Vocational School; 4 = college\r\n",
        "4. currentSmoker : Whether person is currently smoking or not, 0 = nonsmoker; 1 = smoker\r\n",
        "5. cigsPerDay : How many cigs he/she smokes in a day. \r\n",
        "6. BPMeds : Whether the person takes BP meds, 0 = Not on Blood Pressure medications; 1 = Is on Blood Pressure medications\r\n",
        "7. prevalentStroke : Has the patient got a stroke before. Yes = 1, No = 0\r\n",
        "8. prevalentHyp : Does patient have a history of hypertension. Yes =1, No = 0\r\n",
        "9. diabetes\t: Whether person has diabetes or not, 0 = No; 1 = Yes\r\n",
        "10. totChol\t: Total cholesterol is the total amount of cholesterol in your blood. Your total cholesterol includes low-density lipoprotein (LDL, or “bad”) cholesterol and high-density lipoprotein (HDL, or “good”) cholesterol. Unit : (mg/dL)\r\n",
        "11. sysBP\t: When your heart beats, it squeezes and pushes blood through your arteries to the rest of your body. This force creates pressure on those blood vessels, and that's your systolic blood pressure. A normal systolic pressure is below 120. A reading of 140 or more means you have high blood pressure.\r\n",
        "12. diaBP\t: The diastolic reading, is the pressure in the arteries when the heart rests between beats. This is the time when the heart fills with blood and gets oxygen. A normal diastolic blood pressure is lower than 80. A reading of 90 or higher means you have high blood pressure.\r\n",
        "13. BMI\t: Body mass index. BMI = kg/m^2\r\n",
        "14. heartRate\t: Beats per minute\r\n",
        "15. glucose\t: glucose level \r\n",
        "16. TenYearCHD : 10 year risk of coronary heart disease CHD (binary: “1”, means “Yes”, “0” means “No”), This is our **target variable**.\r\n",
        "\r\n"
      ]
    },
    {
      "cell_type": "code",
      "metadata": {
        "id": "l5rMGEjppW15"
      },
      "source": [
        "import warnings\r\n",
        "warnings.filterwarnings('ignore')"
      ],
      "execution_count": 1,
      "outputs": []
    },
    {
      "cell_type": "code",
      "metadata": {
        "id": "impaVDWGpw9n"
      },
      "source": [
        "import numpy as np\r\n",
        "import pandas as pd\r\n",
        "import matplotlib.pyplot as plt\r\n",
        "import seaborn as sns\r\n",
        "import math\r\n",
        "from scipy.stats import skew\r\n",
        "from sklearn.preprocessing import LabelEncoder"
      ],
      "execution_count": 2,
      "outputs": []
    },
    {
      "cell_type": "code",
      "metadata": {
        "id": "pPxsZarJsXtB"
      },
      "source": [
        "df = pd.read_csv(\"/content/drive/MyDrive/ML Projects /Heart disease prediction/framingham.csv\")"
      ],
      "execution_count": 3,
      "outputs": []
    },
    {
      "cell_type": "code",
      "metadata": {
        "colab": {
          "base_uri": "https://localhost:8080/",
          "height": 195
        },
        "id": "ATmptz-UsgXj",
        "outputId": "5ffb4f2b-2779-49db-d3fa-e6765b189a0f"
      },
      "source": [
        "df.head()"
      ],
      "execution_count": 4,
      "outputs": [
        {
          "output_type": "execute_result",
          "data": {
            "text/html": [
              "<div>\n",
              "<style scoped>\n",
              "    .dataframe tbody tr th:only-of-type {\n",
              "        vertical-align: middle;\n",
              "    }\n",
              "\n",
              "    .dataframe tbody tr th {\n",
              "        vertical-align: top;\n",
              "    }\n",
              "\n",
              "    .dataframe thead th {\n",
              "        text-align: right;\n",
              "    }\n",
              "</style>\n",
              "<table border=\"1\" class=\"dataframe\">\n",
              "  <thead>\n",
              "    <tr style=\"text-align: right;\">\n",
              "      <th></th>\n",
              "      <th>male</th>\n",
              "      <th>age</th>\n",
              "      <th>education</th>\n",
              "      <th>currentSmoker</th>\n",
              "      <th>cigsPerDay</th>\n",
              "      <th>BPMeds</th>\n",
              "      <th>prevalentStroke</th>\n",
              "      <th>prevalentHyp</th>\n",
              "      <th>diabetes</th>\n",
              "      <th>totChol</th>\n",
              "      <th>sysBP</th>\n",
              "      <th>diaBP</th>\n",
              "      <th>BMI</th>\n",
              "      <th>heartRate</th>\n",
              "      <th>glucose</th>\n",
              "      <th>TenYearCHD</th>\n",
              "    </tr>\n",
              "  </thead>\n",
              "  <tbody>\n",
              "    <tr>\n",
              "      <th>0</th>\n",
              "      <td>1</td>\n",
              "      <td>39</td>\n",
              "      <td>4.0</td>\n",
              "      <td>0</td>\n",
              "      <td>0.0</td>\n",
              "      <td>0.0</td>\n",
              "      <td>0</td>\n",
              "      <td>0</td>\n",
              "      <td>0</td>\n",
              "      <td>195.0</td>\n",
              "      <td>106.0</td>\n",
              "      <td>70.0</td>\n",
              "      <td>26.97</td>\n",
              "      <td>80.0</td>\n",
              "      <td>77.0</td>\n",
              "      <td>0</td>\n",
              "    </tr>\n",
              "    <tr>\n",
              "      <th>1</th>\n",
              "      <td>0</td>\n",
              "      <td>46</td>\n",
              "      <td>2.0</td>\n",
              "      <td>0</td>\n",
              "      <td>0.0</td>\n",
              "      <td>0.0</td>\n",
              "      <td>0</td>\n",
              "      <td>0</td>\n",
              "      <td>0</td>\n",
              "      <td>250.0</td>\n",
              "      <td>121.0</td>\n",
              "      <td>81.0</td>\n",
              "      <td>28.73</td>\n",
              "      <td>95.0</td>\n",
              "      <td>76.0</td>\n",
              "      <td>0</td>\n",
              "    </tr>\n",
              "    <tr>\n",
              "      <th>2</th>\n",
              "      <td>1</td>\n",
              "      <td>48</td>\n",
              "      <td>1.0</td>\n",
              "      <td>1</td>\n",
              "      <td>20.0</td>\n",
              "      <td>0.0</td>\n",
              "      <td>0</td>\n",
              "      <td>0</td>\n",
              "      <td>0</td>\n",
              "      <td>245.0</td>\n",
              "      <td>127.5</td>\n",
              "      <td>80.0</td>\n",
              "      <td>25.34</td>\n",
              "      <td>75.0</td>\n",
              "      <td>70.0</td>\n",
              "      <td>0</td>\n",
              "    </tr>\n",
              "    <tr>\n",
              "      <th>3</th>\n",
              "      <td>0</td>\n",
              "      <td>61</td>\n",
              "      <td>3.0</td>\n",
              "      <td>1</td>\n",
              "      <td>30.0</td>\n",
              "      <td>0.0</td>\n",
              "      <td>0</td>\n",
              "      <td>1</td>\n",
              "      <td>0</td>\n",
              "      <td>225.0</td>\n",
              "      <td>150.0</td>\n",
              "      <td>95.0</td>\n",
              "      <td>28.58</td>\n",
              "      <td>65.0</td>\n",
              "      <td>103.0</td>\n",
              "      <td>1</td>\n",
              "    </tr>\n",
              "    <tr>\n",
              "      <th>4</th>\n",
              "      <td>0</td>\n",
              "      <td>46</td>\n",
              "      <td>3.0</td>\n",
              "      <td>1</td>\n",
              "      <td>23.0</td>\n",
              "      <td>0.0</td>\n",
              "      <td>0</td>\n",
              "      <td>0</td>\n",
              "      <td>0</td>\n",
              "      <td>285.0</td>\n",
              "      <td>130.0</td>\n",
              "      <td>84.0</td>\n",
              "      <td>23.10</td>\n",
              "      <td>85.0</td>\n",
              "      <td>85.0</td>\n",
              "      <td>0</td>\n",
              "    </tr>\n",
              "  </tbody>\n",
              "</table>\n",
              "</div>"
            ],
            "text/plain": [
              "   male  age  education  currentSmoker  ...    BMI  heartRate  glucose  TenYearCHD\n",
              "0     1   39        4.0              0  ...  26.97       80.0     77.0           0\n",
              "1     0   46        2.0              0  ...  28.73       95.0     76.0           0\n",
              "2     1   48        1.0              1  ...  25.34       75.0     70.0           0\n",
              "3     0   61        3.0              1  ...  28.58       65.0    103.0           1\n",
              "4     0   46        3.0              1  ...  23.10       85.0     85.0           0\n",
              "\n",
              "[5 rows x 16 columns]"
            ]
          },
          "metadata": {
            "tags": []
          },
          "execution_count": 4
        }
      ]
    },
    {
      "cell_type": "code",
      "metadata": {
        "colab": {
          "base_uri": "https://localhost:8080/",
          "height": 195
        },
        "id": "5HeSRSZ1Gc3H",
        "outputId": "08b40715-131f-4fcf-a44c-404946d208a4"
      },
      "source": [
        "df.tail()"
      ],
      "execution_count": 5,
      "outputs": [
        {
          "output_type": "execute_result",
          "data": {
            "text/html": [
              "<div>\n",
              "<style scoped>\n",
              "    .dataframe tbody tr th:only-of-type {\n",
              "        vertical-align: middle;\n",
              "    }\n",
              "\n",
              "    .dataframe tbody tr th {\n",
              "        vertical-align: top;\n",
              "    }\n",
              "\n",
              "    .dataframe thead th {\n",
              "        text-align: right;\n",
              "    }\n",
              "</style>\n",
              "<table border=\"1\" class=\"dataframe\">\n",
              "  <thead>\n",
              "    <tr style=\"text-align: right;\">\n",
              "      <th></th>\n",
              "      <th>male</th>\n",
              "      <th>age</th>\n",
              "      <th>education</th>\n",
              "      <th>currentSmoker</th>\n",
              "      <th>cigsPerDay</th>\n",
              "      <th>BPMeds</th>\n",
              "      <th>prevalentStroke</th>\n",
              "      <th>prevalentHyp</th>\n",
              "      <th>diabetes</th>\n",
              "      <th>totChol</th>\n",
              "      <th>sysBP</th>\n",
              "      <th>diaBP</th>\n",
              "      <th>BMI</th>\n",
              "      <th>heartRate</th>\n",
              "      <th>glucose</th>\n",
              "      <th>TenYearCHD</th>\n",
              "    </tr>\n",
              "  </thead>\n",
              "  <tbody>\n",
              "    <tr>\n",
              "      <th>4233</th>\n",
              "      <td>1</td>\n",
              "      <td>50</td>\n",
              "      <td>1.0</td>\n",
              "      <td>1</td>\n",
              "      <td>1.0</td>\n",
              "      <td>0.0</td>\n",
              "      <td>0</td>\n",
              "      <td>1</td>\n",
              "      <td>0</td>\n",
              "      <td>313.0</td>\n",
              "      <td>179.0</td>\n",
              "      <td>92.0</td>\n",
              "      <td>25.97</td>\n",
              "      <td>66.0</td>\n",
              "      <td>86.0</td>\n",
              "      <td>1</td>\n",
              "    </tr>\n",
              "    <tr>\n",
              "      <th>4234</th>\n",
              "      <td>1</td>\n",
              "      <td>51</td>\n",
              "      <td>3.0</td>\n",
              "      <td>1</td>\n",
              "      <td>43.0</td>\n",
              "      <td>0.0</td>\n",
              "      <td>0</td>\n",
              "      <td>0</td>\n",
              "      <td>0</td>\n",
              "      <td>207.0</td>\n",
              "      <td>126.5</td>\n",
              "      <td>80.0</td>\n",
              "      <td>19.71</td>\n",
              "      <td>65.0</td>\n",
              "      <td>68.0</td>\n",
              "      <td>0</td>\n",
              "    </tr>\n",
              "    <tr>\n",
              "      <th>4235</th>\n",
              "      <td>0</td>\n",
              "      <td>48</td>\n",
              "      <td>2.0</td>\n",
              "      <td>1</td>\n",
              "      <td>20.0</td>\n",
              "      <td>NaN</td>\n",
              "      <td>0</td>\n",
              "      <td>0</td>\n",
              "      <td>0</td>\n",
              "      <td>248.0</td>\n",
              "      <td>131.0</td>\n",
              "      <td>72.0</td>\n",
              "      <td>22.00</td>\n",
              "      <td>84.0</td>\n",
              "      <td>86.0</td>\n",
              "      <td>0</td>\n",
              "    </tr>\n",
              "    <tr>\n",
              "      <th>4236</th>\n",
              "      <td>0</td>\n",
              "      <td>44</td>\n",
              "      <td>1.0</td>\n",
              "      <td>1</td>\n",
              "      <td>15.0</td>\n",
              "      <td>0.0</td>\n",
              "      <td>0</td>\n",
              "      <td>0</td>\n",
              "      <td>0</td>\n",
              "      <td>210.0</td>\n",
              "      <td>126.5</td>\n",
              "      <td>87.0</td>\n",
              "      <td>19.16</td>\n",
              "      <td>86.0</td>\n",
              "      <td>NaN</td>\n",
              "      <td>0</td>\n",
              "    </tr>\n",
              "    <tr>\n",
              "      <th>4237</th>\n",
              "      <td>0</td>\n",
              "      <td>52</td>\n",
              "      <td>2.0</td>\n",
              "      <td>0</td>\n",
              "      <td>0.0</td>\n",
              "      <td>0.0</td>\n",
              "      <td>0</td>\n",
              "      <td>0</td>\n",
              "      <td>0</td>\n",
              "      <td>269.0</td>\n",
              "      <td>133.5</td>\n",
              "      <td>83.0</td>\n",
              "      <td>21.47</td>\n",
              "      <td>80.0</td>\n",
              "      <td>107.0</td>\n",
              "      <td>0</td>\n",
              "    </tr>\n",
              "  </tbody>\n",
              "</table>\n",
              "</div>"
            ],
            "text/plain": [
              "      male  age  education  ...  heartRate  glucose  TenYearCHD\n",
              "4233     1   50        1.0  ...       66.0     86.0           1\n",
              "4234     1   51        3.0  ...       65.0     68.0           0\n",
              "4235     0   48        2.0  ...       84.0     86.0           0\n",
              "4236     0   44        1.0  ...       86.0      NaN           0\n",
              "4237     0   52        2.0  ...       80.0    107.0           0\n",
              "\n",
              "[5 rows x 16 columns]"
            ]
          },
          "metadata": {
            "tags": []
          },
          "execution_count": 5
        }
      ]
    },
    {
      "cell_type": "code",
      "metadata": {
        "colab": {
          "base_uri": "https://localhost:8080/",
          "height": 279
        },
        "id": "HPAQRnmKH_TU",
        "outputId": "b543133b-ca95-4372-f7cd-67bb461fde26"
      },
      "source": [
        "sns.countplot(df['TenYearCHD'])\r\n",
        "plt.show()"
      ],
      "execution_count": 6,
      "outputs": [
        {
          "output_type": "display_data",
          "data": {
            "image/png": "[encoded data removed]",
            "text/plain": [
              "<Figure size 432x288 with 1 Axes>"
            ]
          },
          "metadata": {
            "tags": [],
            "needs_background": "light"
          }
        }
      ]
    },
    {
      "cell_type": "markdown",
      "metadata": {
        "id": "0m_Sx_9PIEsr"
      },
      "source": [
        "**As we can see our dataset is not balanced at all hence we need to balance it in order to get an accurate prediction model. **"
      ]
    },
    {
      "cell_type": "markdown",
      "metadata": {
        "id": "pTJ816cZiRdY"
      },
      "source": [
        "But first we will clean our dataset and then check the logistic regression score and then we will balance our dataset and do the same in order to see the difference. "
      ]
    },
    {
      "cell_type": "code",
      "metadata": {
        "id": "cVYyLT1wsiTp"
      },
      "source": [
        "df.rename(columns={'male':'sex'},inplace=True)"
      ],
      "execution_count": 7,
      "outputs": []
    },
    {
      "cell_type": "code",
      "metadata": {
        "colab": {
          "base_uri": "https://localhost:8080/"
        },
        "id": "A9kBw-gIxiu4",
        "outputId": "79883bb1-5e57-4d3b-9d22-f225472dd4bf"
      },
      "source": [
        "df.info()\r\n",
        "# As we can see there are no object dtypes here which means we don't need to use LabelEncoder or OHE."
      ],
      "execution_count": 8,
      "outputs": [
        {
          "output_type": "stream",
          "text": [
            "<class 'pandas.core.frame.DataFrame'>\n",
            "RangeIndex: 4238 entries, 0 to 4237\n",
            "Data columns (total 16 columns):\n",
            " #   Column           Non-Null Count  Dtype  \n",
            "---  ------           --------------  -----  \n",
            " 0   sex              4238 non-null   int64  \n",
            " 1   age              4238 non-null   int64  \n",
            " 2   education        4133 non-null   float64\n",
            " 3   currentSmoker    4238 non-null   int64  \n",
            " 4   cigsPerDay       4209 non-null   float64\n",
            " 5   BPMeds           4185 non-null   float64\n",
            " 6   prevalentStroke  4238 non-null   int64  \n",
            " 7   prevalentHyp     4238 non-null   int64  \n",
            " 8   diabetes         4238 non-null   int64  \n",
            " 9   totChol          4188 non-null   float64\n",
            " 10  sysBP            4238 non-null   float64\n",
            " 11  diaBP            4238 non-null   float64\n",
            " 12  BMI              4219 non-null   float64\n",
            " 13  heartRate        4237 non-null   float64\n",
            " 14  glucose          3850 non-null   float64\n",
            " 15  TenYearCHD       4238 non-null   int64  \n",
            "dtypes: float64(9), int64(7)\n",
            "memory usage: 529.9 KB\n"
          ],
          "name": "stdout"
        }
      ]
    },
    {
      "cell_type": "code",
      "metadata": {
        "colab": {
          "base_uri": "https://localhost:8080/"
        },
        "id": "MK5LzU10xmEf",
        "outputId": "6e160392-aacd-4df9-9494-6728e012d48b"
      },
      "source": [
        "df.isnull().sum()"
      ],
      "execution_count": 9,
      "outputs": [
        {
          "output_type": "execute_result",
          "data": {
            "text/plain": [
              "sex                  0\n",
              "age                  0\n",
              "education          105\n",
              "currentSmoker        0\n",
              "cigsPerDay          29\n",
              "BPMeds              53\n",
              "prevalentStroke      0\n",
              "prevalentHyp         0\n",
              "diabetes             0\n",
              "totChol             50\n",
              "sysBP                0\n",
              "diaBP                0\n",
              "BMI                 19\n",
              "heartRate            1\n",
              "glucose            388\n",
              "TenYearCHD           0\n",
              "dtype: int64"
            ]
          },
          "metadata": {
            "tags": []
          },
          "execution_count": 9
        }
      ]
    },
    {
      "cell_type": "code",
      "metadata": {
        "colab": {
          "base_uri": "https://localhost:8080/"
        },
        "id": "geIPRr_PIOCO",
        "outputId": "cee7ddf8-c6ce-4e56-db74-0aa91dcc3b92"
      },
      "source": [
        "for col in df: \r\n",
        "  print(col)\r\n",
        "  print(df[col].unique())\r\n",
        "  print(\"----\"*20)"
      ],
      "execution_count": 10,
      "outputs": [
        {
          "output_type": "stream",
          "text": [
            "sex\n",
            "[1 0]\n",
            "--------------------------------------------------------------------------------\n",
            "age\n",
            "[39 46 48 61 43 63 45 52 50 41 38 42 44 47 60 35 36 59 54 37 56 53 49 65\n",
            " 51 62 40 67 57 66 64 55 58 34 68 33 70 32 69]\n",
            "--------------------------------------------------------------------------------\n",
            "education\n",
            "[ 4.  2.  1.  3. nan]\n",
            "--------------------------------------------------------------------------------\n",
            "currentSmoker\n",
            "[0 1]\n",
            "--------------------------------------------------------------------------------\n",
            "cigsPerDay\n",
            "[ 0. 20. 30. 23. 15.  9. 10.  5. 35. 43.  1. 40.  3.  2. nan 12.  4. 18.\n",
            " 25. 60. 14. 45.  8. 50. 13. 11.  7.  6. 38. 29. 17. 16. 19. 70.]\n",
            "--------------------------------------------------------------------------------\n",
            "BPMeds\n",
            "[ 0.  1. nan]\n",
            "--------------------------------------------------------------------------------\n",
            "prevalentStroke\n",
            "[0 1]\n",
            "--------------------------------------------------------------------------------\n",
            "prevalentHyp\n",
            "[0 1]\n",
            "--------------------------------------------------------------------------------\n",
            "diabetes\n",
            "[0 1]\n",
            "--------------------------------------------------------------------------------\n",
            "totChol\n",
            "[195. 250. 245. 225. 285. 228. 205. 313. 260. 254. 247. 294. 332. 226.\n",
            " 221. 232. 291. 190. 185. 234. 215. 270. 272. 295. 209. 175. 214. 257.\n",
            " 178. 233. 180. 243. 237.  nan 311. 208. 252. 261. 179. 194. 267. 216.\n",
            " 240. 266. 255. 220. 235. 212. 223. 300. 302. 248. 200. 189. 258. 202.\n",
            " 213. 183. 274. 170. 210. 197. 326. 188. 256. 244. 193. 239. 296. 269.\n",
            " 275. 268. 265. 173. 273. 290. 278. 264. 282. 241. 288. 222. 303. 246.\n",
            " 150. 187. 286. 154. 279. 293. 259. 219. 230. 320. 312. 165. 159. 174.\n",
            " 242. 301. 167. 308. 325. 229. 236. 224. 253. 464. 171. 186. 227. 249.\n",
            " 176. 163. 191. 263. 196. 310. 164. 135. 238. 207. 342. 287. 182. 352.\n",
            " 284. 217. 203. 262. 129. 155. 323. 206. 283. 319. 304. 340. 328. 280.\n",
            " 368. 218. 276. 339. 231. 198. 177. 201. 277. 184. 199. 168. 292. 305.\n",
            " 306. 152. 161. 181. 251. 271. 370. 439. 145. 330. 157. 398. 162. 314.\n",
            " 166. 160. 281. 289. 355. 307. 156. 329. 143. 211. 298. 334. 192. 204.\n",
            " 318. 309. 353. 360. 335. 158. 372. 346. 169. 140. 324. 600. 315. 392.\n",
            " 322. 149. 137. 172. 317. 358. 153. 345. 391. 410. 297. 356. 338. 107.\n",
            " 148. 366. 333. 327. 344. 126. 365. 362. 316. 144. 351. 390. 321. 405.\n",
            " 359. 350. 336. 380. 299. 124. 371. 113. 354. 382. 364. 341. 133. 367.\n",
            " 432. 337. 696. 363. 331. 361. 453. 347. 373. 385. 119.]\n",
            "--------------------------------------------------------------------------------\n",
            "sysBP\n",
            "[106.  121.  127.5 150.  130.  180.  138.  100.  141.5 162.  133.  131.\n",
            " 142.  124.  114.  140.  112.  122.  139.  108.  123.5 148.  132.  137.5\n",
            " 102.  110.  182.  115.  134.  147.  124.5 153.5 160.  153.  111.  116.5\n",
            " 206.   96.  179.5 119.  116.  156.5 145.  143.5 158.  157.  126.5 136.\n",
            " 154.  190.  107.  112.5 164.5 138.5 155.  151.  152.  179.  113.  200.\n",
            " 132.5 126.  123.  141.  135.  187.  127.  160.5 105.  109.  128.  118.\n",
            " 109.5 117.5 149.  180.5 136.5 212.  125.  191.  121.5 173.  144.  129.5\n",
            " 117.  144.5 170.  137.   94.  119.5 143.  166.  139.5 177.5 129.  159.\n",
            " 130.5 107.5 189.  168.  197.5 146.  174.  122.5  98.  131.5 195.  101.\n",
            " 158.5  97.  151.5  97.5 120.  204.  157.5 140.5 171.  215.   95.  156.\n",
            " 165.  178.  146.5 113.5 188.  197.   90.  152.5  95.5 209.  162.5 295.\n",
            " 108.5 103.  145.5 134.5 115.5 118.5 174.5 163.  185.  220.  164.  120.5\n",
            "  98.5 161.  168.5 176.  163.5 128.5 167.  205.5 167.5 172.5 183.  186.\n",
            " 147.5 175.  142.5 192.   96.5 159.5 177.  102.5 133.5 244.  104.  213.\n",
            " 199.  184.  198.  114.5 125.5 111.5 105.5 161.5 171.5 201.  148.5 169.\n",
            " 154.5  93.5 172.  243.  187.5  99.  181.  100.5 104.5 135.5 185.5 103.5\n",
            " 149.5 182.5 186.5 217.  196.  193.  110.5 155.5  92.  166.5 202.  150.5\n",
            " 232.   85.5 184.5 235.  205.  169.5 210.  181.5 188.5 176.5  92.5 202.5\n",
            " 191.5 208.   83.5 106.5 170.5  93.  175.5 207.5 199.5 101.5 248.   99.5\n",
            "  85.  230.  214.  192.5 194.  207. ]\n",
            "--------------------------------------------------------------------------------\n",
            "diaBP\n",
            "[ 70.   81.   80.   95.   84.  110.   71.   89.  107.   76.   88.   94.\n",
            "  64.   90.   78.   84.5  70.5  77.5  82.   68.   72.5  91.  121.   85.5\n",
            "  85.   82.5  74.   92.5 102.   98.  101.   73.   92.   83.5  63.  114.\n",
            "  69.   93.   66.   75.   79.   87.   99.   60.   67.5 106.   86.5 104.\n",
            "  86.   61.5  71.5  76.5  77.   88.5 105.   96.   97.  100.   81.5 106.5\n",
            "  80.5 124.5  61.   83.   67.   74.5  66.5  65.   72.   99.5 122.5  57.\n",
            "  57.5 111.   78.5 104.5  89.5 112.   55.  123.  120.   75.5 118.   97.5\n",
            "  59.  133.   69.5  95.5  96.5 135.   64.5  68.5  98.5  62.  117.   59.5\n",
            " 103.  108.5  73.5  87.5 108.   93.5  90.5 114.5  62.5  94.5 140.  124.\n",
            "  79.5 109.   91.5 115.  102.5  65.5 105.5 103.5  63.5 107.5 142.5 109.5\n",
            "  58.  117.5 116.5 100.5 116.  119.   54.  132.   50.  101.5 136.   51.\n",
            " 128.  125.  112.5 130.  110.5 113.   53.  129.   52.   48.   56.   60.5\n",
            " 115.5 127.5]\n",
            "--------------------------------------------------------------------------------\n",
            "BMI\n",
            "[26.97 28.73 25.34 ... 39.17 26.7  43.67]\n",
            "--------------------------------------------------------------------------------\n",
            "heartRate\n",
            "[ 80.  95.  75.  65.  85.  77.  60.  79.  76.  93.  72.  98.  64.  70.\n",
            "  71.  62.  73.  90.  96.  68.  63.  88.  78.  83. 100.  67.  84.  57.\n",
            "  50.  74.  86.  55.  92.  66.  87. 110.  81.  56.  89.  82.  48. 105.\n",
            "  61.  54.  69.  52.  94. 140. 130.  58. 108. 104.  91.  53.  nan 106.\n",
            "  59.  51. 102. 107. 112. 125. 103.  44.  47.  45.  97. 122. 120.  99.\n",
            " 115. 143. 101.  46.]\n",
            "--------------------------------------------------------------------------------\n",
            "glucose\n",
            "[ 77.  76.  70. 103.  85.  99.  78.  79.  88.  61.  64.  84.  nan  72.\n",
            "  89.  65. 113.  75.  83.  66.  74.  63.  87. 225.  90.  80. 100. 215.\n",
            "  98.  62.  95.  94.  55.  82.  93.  73.  45. 202.  68.  97. 104.  96.\n",
            " 126. 120. 105.  71.  56.  60. 117. 102.  58.  92. 109.  86. 107.  54.\n",
            "  67.  69.  57.  91. 132. 150.  59.  81. 115. 140. 112. 118. 143. 114.\n",
            " 160. 110. 123. 108. 145. 122. 137. 106. 127. 205. 130. 101.  47.  53.\n",
            " 216. 163. 144. 116. 121. 172. 124. 111.  40. 186. 223. 325.  44. 156.\n",
            " 268.  50. 274. 292. 255. 136. 206. 131. 148. 297.  43. 173.  48. 386.\n",
            " 155. 147. 170.  52. 320. 254. 394. 270. 244. 183. 142. 119. 135. 167.\n",
            " 207. 129. 177. 250. 294. 166. 125. 332. 368. 348. 248. 370. 193. 191.\n",
            " 256. 235. 210. 260.]\n",
            "--------------------------------------------------------------------------------\n",
            "TenYearCHD\n",
            "[0 1]\n",
            "--------------------------------------------------------------------------------\n"
          ],
          "name": "stdout"
        }
      ]
    },
    {
      "cell_type": "code",
      "metadata": {
        "colab": {
          "base_uri": "https://localhost:8080/"
        },
        "id": "eb_7Abo7Gh-E",
        "outputId": "eaea6a9a-3c97-4ce3-db67-c13fd5021496"
      },
      "source": [
        "(df.isnull().sum()/df.shape[0])*100  #Percentage of null values in every column "
      ],
      "execution_count": 11,
      "outputs": [
        {
          "output_type": "execute_result",
          "data": {
            "text/plain": [
              "sex                0.000000\n",
              "age                0.000000\n",
              "education          2.477584\n",
              "currentSmoker      0.000000\n",
              "cigsPerDay         0.684285\n",
              "BPMeds             1.250590\n",
              "prevalentStroke    0.000000\n",
              "prevalentHyp       0.000000\n",
              "diabetes           0.000000\n",
              "totChol            1.179802\n",
              "sysBP              0.000000\n",
              "diaBP              0.000000\n",
              "BMI                0.448325\n",
              "heartRate          0.023596\n",
              "glucose            9.155262\n",
              "TenYearCHD         0.000000\n",
              "dtype: float64"
            ]
          },
          "metadata": {
            "tags": []
          },
          "execution_count": 11
        }
      ]
    },
    {
      "cell_type": "code",
      "metadata": {
        "id": "a5vUQprSIFKs"
      },
      "source": [
        "#Empty column in education can mean they are uneducated so let's fill em with 0. \r\n",
        "df['education'].fillna(0, inplace=True)"
      ],
      "execution_count": 12,
      "outputs": []
    },
    {
      "cell_type": "code",
      "metadata": {
        "id": "Hdg_EbaYI62D"
      },
      "source": [
        "#Empty column in cigsPerDay can mean people who smoke haven't updated their data. \r\n",
        "df['cigsPerDay'].fillna(df['cigsPerDay'].mean(), inplace=True)"
      ],
      "execution_count": 13,
      "outputs": []
    },
    {
      "cell_type": "code",
      "metadata": {
        "id": "MnNh7WtDJK7z"
      },
      "source": [
        "#Empty columns mean people who take meds haven't input it. \r\n",
        "df['BPMeds'].fillna(0, inplace=True)"
      ],
      "execution_count": 14,
      "outputs": []
    },
    {
      "cell_type": "code",
      "metadata": {
        "id": "ywfhIlqBJ9xz"
      },
      "source": [
        "df['totChol'].fillna(df['totChol'].median(), inplace=True)"
      ],
      "execution_count": 15,
      "outputs": []
    },
    {
      "cell_type": "code",
      "metadata": {
        "id": "mn3jQcWDJ-SK"
      },
      "source": [
        "df['BMI'].fillna(df['BMI'].median(), inplace=True)"
      ],
      "execution_count": 16,
      "outputs": []
    },
    {
      "cell_type": "code",
      "metadata": {
        "id": "kDQqmC4TLY7U"
      },
      "source": [
        "df['glucose'].fillna(df['glucose'].where(df['diabetes']==0).median(), inplace=True)"
      ],
      "execution_count": 17,
      "outputs": []
    },
    {
      "cell_type": "code",
      "metadata": {
        "id": "cNUTNpfpL8Qm"
      },
      "source": [
        "df['heartRate'].fillna(df['heartRate'].where(df['currentSmoker']==1).median(), inplace=True)"
      ],
      "execution_count": 18,
      "outputs": []
    },
    {
      "cell_type": "code",
      "metadata": {
        "colab": {
          "base_uri": "https://localhost:8080/",
          "height": 773
        },
        "id": "GEcQRC9uAbE8",
        "outputId": "0dc49d72-47af-479a-c647-0471b03d728d"
      },
      "source": [
        "plt.figure(figsize=(12,12))\r\n",
        "sns.heatmap(df.corr(), annot=True, linewidths=2, linecolor='black')\r\n",
        "plt.show()"
      ],
      "execution_count": 19,
      "outputs": [
        {
          "output_type": "display_data",
          "data": {
            "image/png": "[encoded data removed]",
            "text/plain": [
              "<Figure size 864x864 with 2 Axes>"
            ]
          },
          "metadata": {
            "tags": [],
            "needs_background": "light"
          }
        }
      ]
    },
    {
      "cell_type": "code",
      "metadata": {
        "colab": {
          "base_uri": "https://localhost:8080/",
          "height": 47
        },
        "id": "T3SlRDXWyBFP",
        "outputId": "6daee709-e37e-4cd3-9db1-0ca00f7d15b8"
      },
      "source": [
        "df[(df['currentSmoker']==0) & (df['cigsPerDay']>0)]   # No such wrong data where guy isn't a smoker but cigsPerDay column is not null. "
      ],
      "execution_count": 20,
      "outputs": [
        {
          "output_type": "execute_result",
          "data": {
            "text/html": [
              "<div>\n",
              "<style scoped>\n",
              "    .dataframe tbody tr th:only-of-type {\n",
              "        vertical-align: middle;\n",
              "    }\n",
              "\n",
              "    .dataframe tbody tr th {\n",
              "        vertical-align: top;\n",
              "    }\n",
              "\n",
              "    .dataframe thead th {\n",
              "        text-align: right;\n",
              "    }\n",
              "</style>\n",
              "<table border=\"1\" class=\"dataframe\">\n",
              "  <thead>\n",
              "    <tr style=\"text-align: right;\">\n",
              "      <th></th>\n",
              "      <th>sex</th>\n",
              "      <th>age</th>\n",
              "      <th>education</th>\n",
              "      <th>currentSmoker</th>\n",
              "      <th>cigsPerDay</th>\n",
              "      <th>BPMeds</th>\n",
              "      <th>prevalentStroke</th>\n",
              "      <th>prevalentHyp</th>\n",
              "      <th>diabetes</th>\n",
              "      <th>totChol</th>\n",
              "      <th>sysBP</th>\n",
              "      <th>diaBP</th>\n",
              "      <th>BMI</th>\n",
              "      <th>heartRate</th>\n",
              "      <th>glucose</th>\n",
              "      <th>TenYearCHD</th>\n",
              "    </tr>\n",
              "  </thead>\n",
              "  <tbody>\n",
              "  </tbody>\n",
              "</table>\n",
              "</div>"
            ],
            "text/plain": [
              "Empty DataFrame\n",
              "Columns: [sex, age, education, currentSmoker, cigsPerDay, BPMeds, prevalentStroke, prevalentHyp, diabetes, totChol, sysBP, diaBP, BMI, heartRate, glucose, TenYearCHD]\n",
              "Index: []"
            ]
          },
          "metadata": {
            "tags": []
          },
          "execution_count": 20
        }
      ]
    },
    {
      "cell_type": "code",
      "metadata": {
        "id": "0mEjuCGXFaHo",
        "colab": {
          "base_uri": "https://localhost:8080/"
        },
        "outputId": "b448eec6-e943-4ad0-fb2e-8c98f903705e"
      },
      "source": [
        "(df.isnull().sum()/df.shape[0])*100  #Checking if there is any null data remaining after null value treatment"
      ],
      "execution_count": 21,
      "outputs": [
        {
          "output_type": "execute_result",
          "data": {
            "text/plain": [
              "sex                0.0\n",
              "age                0.0\n",
              "education          0.0\n",
              "currentSmoker      0.0\n",
              "cigsPerDay         0.0\n",
              "BPMeds             0.0\n",
              "prevalentStroke    0.0\n",
              "prevalentHyp       0.0\n",
              "diabetes           0.0\n",
              "totChol            0.0\n",
              "sysBP              0.0\n",
              "diaBP              0.0\n",
              "BMI                0.0\n",
              "heartRate          0.0\n",
              "glucose            0.0\n",
              "TenYearCHD         0.0\n",
              "dtype: float64"
            ]
          },
          "metadata": {
            "tags": []
          },
          "execution_count": 21
        }
      ]
    },
    {
      "cell_type": "code",
      "metadata": {
        "colab": {
          "base_uri": "https://localhost:8080/",
          "height": 521
        },
        "id": "MviTR7Q_NhUh",
        "outputId": "c9aa2558-7db7-46b2-f10e-4751dd9fe48d"
      },
      "source": [
        "df.describe().T"
      ],
      "execution_count": 22,
      "outputs": [
        {
          "output_type": "execute_result",
          "data": {
            "text/html": [
              "<div>\n",
              "<style scoped>\n",
              "    .dataframe tbody tr th:only-of-type {\n",
              "        vertical-align: middle;\n",
              "    }\n",
              "\n",
              "    .dataframe tbody tr th {\n",
              "        vertical-align: top;\n",
              "    }\n",
              "\n",
              "    .dataframe thead th {\n",
              "        text-align: right;\n",
              "    }\n",
              "</style>\n",
              "<table border=\"1\" class=\"dataframe\">\n",
              "  <thead>\n",
              "    <tr style=\"text-align: right;\">\n",
              "      <th></th>\n",
              "      <th>count</th>\n",
              "      <th>mean</th>\n",
              "      <th>std</th>\n",
              "      <th>min</th>\n",
              "      <th>25%</th>\n",
              "      <th>50%</th>\n",
              "      <th>75%</th>\n",
              "      <th>max</th>\n",
              "    </tr>\n",
              "  </thead>\n",
              "  <tbody>\n",
              "    <tr>\n",
              "      <th>sex</th>\n",
              "      <td>4238.0</td>\n",
              "      <td>0.429212</td>\n",
              "      <td>0.495022</td>\n",
              "      <td>0.00</td>\n",
              "      <td>0.00</td>\n",
              "      <td>0.0</td>\n",
              "      <td>1.0000</td>\n",
              "      <td>1.0</td>\n",
              "    </tr>\n",
              "    <tr>\n",
              "      <th>age</th>\n",
              "      <td>4238.0</td>\n",
              "      <td>49.584946</td>\n",
              "      <td>8.572160</td>\n",
              "      <td>32.00</td>\n",
              "      <td>42.00</td>\n",
              "      <td>49.0</td>\n",
              "      <td>56.0000</td>\n",
              "      <td>70.0</td>\n",
              "    </tr>\n",
              "    <tr>\n",
              "      <th>education</th>\n",
              "      <td>4238.0</td>\n",
              "      <td>1.929920</td>\n",
              "      <td>1.053018</td>\n",
              "      <td>0.00</td>\n",
              "      <td>1.00</td>\n",
              "      <td>2.0</td>\n",
              "      <td>3.0000</td>\n",
              "      <td>4.0</td>\n",
              "    </tr>\n",
              "    <tr>\n",
              "      <th>currentSmoker</th>\n",
              "      <td>4238.0</td>\n",
              "      <td>0.494101</td>\n",
              "      <td>0.500024</td>\n",
              "      <td>0.00</td>\n",
              "      <td>0.00</td>\n",
              "      <td>0.0</td>\n",
              "      <td>1.0000</td>\n",
              "      <td>1.0</td>\n",
              "    </tr>\n",
              "    <tr>\n",
              "      <th>cigsPerDay</th>\n",
              "      <td>4238.0</td>\n",
              "      <td>9.003089</td>\n",
              "      <td>11.879230</td>\n",
              "      <td>0.00</td>\n",
              "      <td>0.00</td>\n",
              "      <td>0.0</td>\n",
              "      <td>20.0000</td>\n",
              "      <td>70.0</td>\n",
              "    </tr>\n",
              "    <tr>\n",
              "      <th>BPMeds</th>\n",
              "      <td>4238.0</td>\n",
              "      <td>0.029259</td>\n",
              "      <td>0.168552</td>\n",
              "      <td>0.00</td>\n",
              "      <td>0.00</td>\n",
              "      <td>0.0</td>\n",
              "      <td>0.0000</td>\n",
              "      <td>1.0</td>\n",
              "    </tr>\n",
              "    <tr>\n",
              "      <th>prevalentStroke</th>\n",
              "      <td>4238.0</td>\n",
              "      <td>0.005899</td>\n",
              "      <td>0.076587</td>\n",
              "      <td>0.00</td>\n",
              "      <td>0.00</td>\n",
              "      <td>0.0</td>\n",
              "      <td>0.0000</td>\n",
              "      <td>1.0</td>\n",
              "    </tr>\n",
              "    <tr>\n",
              "      <th>prevalentHyp</th>\n",
              "      <td>4238.0</td>\n",
              "      <td>0.310524</td>\n",
              "      <td>0.462763</td>\n",
              "      <td>0.00</td>\n",
              "      <td>0.00</td>\n",
              "      <td>0.0</td>\n",
              "      <td>1.0000</td>\n",
              "      <td>1.0</td>\n",
              "    </tr>\n",
              "    <tr>\n",
              "      <th>diabetes</th>\n",
              "      <td>4238.0</td>\n",
              "      <td>0.025720</td>\n",
              "      <td>0.158316</td>\n",
              "      <td>0.00</td>\n",
              "      <td>0.00</td>\n",
              "      <td>0.0</td>\n",
              "      <td>0.0000</td>\n",
              "      <td>1.0</td>\n",
              "    </tr>\n",
              "    <tr>\n",
              "      <th>totChol</th>\n",
              "      <td>4238.0</td>\n",
              "      <td>236.689476</td>\n",
              "      <td>44.327427</td>\n",
              "      <td>107.00</td>\n",
              "      <td>206.00</td>\n",
              "      <td>234.0</td>\n",
              "      <td>262.0000</td>\n",
              "      <td>696.0</td>\n",
              "    </tr>\n",
              "    <tr>\n",
              "      <th>sysBP</th>\n",
              "      <td>4238.0</td>\n",
              "      <td>132.352407</td>\n",
              "      <td>22.038097</td>\n",
              "      <td>83.50</td>\n",
              "      <td>117.00</td>\n",
              "      <td>128.0</td>\n",
              "      <td>144.0000</td>\n",
              "      <td>295.0</td>\n",
              "    </tr>\n",
              "    <tr>\n",
              "      <th>diaBP</th>\n",
              "      <td>4238.0</td>\n",
              "      <td>82.893464</td>\n",
              "      <td>11.910850</td>\n",
              "      <td>48.00</td>\n",
              "      <td>75.00</td>\n",
              "      <td>82.0</td>\n",
              "      <td>89.8750</td>\n",
              "      <td>142.5</td>\n",
              "    </tr>\n",
              "    <tr>\n",
              "      <th>BMI</th>\n",
              "      <td>4238.0</td>\n",
              "      <td>25.800205</td>\n",
              "      <td>4.071041</td>\n",
              "      <td>15.54</td>\n",
              "      <td>23.08</td>\n",
              "      <td>25.4</td>\n",
              "      <td>28.0375</td>\n",
              "      <td>56.8</td>\n",
              "    </tr>\n",
              "    <tr>\n",
              "      <th>heartRate</th>\n",
              "      <td>4238.0</td>\n",
              "      <td>75.878716</td>\n",
              "      <td>12.025185</td>\n",
              "      <td>44.00</td>\n",
              "      <td>68.00</td>\n",
              "      <td>75.0</td>\n",
              "      <td>83.0000</td>\n",
              "      <td>143.0</td>\n",
              "    </tr>\n",
              "    <tr>\n",
              "      <th>glucose</th>\n",
              "      <td>4238.0</td>\n",
              "      <td>81.603587</td>\n",
              "      <td>22.865246</td>\n",
              "      <td>40.00</td>\n",
              "      <td>72.00</td>\n",
              "      <td>78.0</td>\n",
              "      <td>85.0000</td>\n",
              "      <td>394.0</td>\n",
              "    </tr>\n",
              "    <tr>\n",
              "      <th>TenYearCHD</th>\n",
              "      <td>4238.0</td>\n",
              "      <td>0.151958</td>\n",
              "      <td>0.359023</td>\n",
              "      <td>0.00</td>\n",
              "      <td>0.00</td>\n",
              "      <td>0.0</td>\n",
              "      <td>0.0000</td>\n",
              "      <td>1.0</td>\n",
              "    </tr>\n",
              "  </tbody>\n",
              "</table>\n",
              "</div>"
            ],
            "text/plain": [
              "                  count        mean        std  ...    50%       75%    max\n",
              "sex              4238.0    0.429212   0.495022  ...    0.0    1.0000    1.0\n",
              "age              4238.0   49.584946   8.572160  ...   49.0   56.0000   70.0\n",
              "education        4238.0    1.929920   1.053018  ...    2.0    3.0000    4.0\n",
              "currentSmoker    4238.0    0.494101   0.500024  ...    0.0    1.0000    1.0\n",
              "cigsPerDay       4238.0    9.003089  11.879230  ...    0.0   20.0000   70.0\n",
              "BPMeds           4238.0    0.029259   0.168552  ...    0.0    0.0000    1.0\n",
              "prevalentStroke  4238.0    0.005899   0.076587  ...    0.0    0.0000    1.0\n",
              "prevalentHyp     4238.0    0.310524   0.462763  ...    0.0    1.0000    1.0\n",
              "diabetes         4238.0    0.025720   0.158316  ...    0.0    0.0000    1.0\n",
              "totChol          4238.0  236.689476  44.327427  ...  234.0  262.0000  696.0\n",
              "sysBP            4238.0  132.352407  22.038097  ...  128.0  144.0000  295.0\n",
              "diaBP            4238.0   82.893464  11.910850  ...   82.0   89.8750  142.5\n",
              "BMI              4238.0   25.800205   4.071041  ...   25.4   28.0375   56.8\n",
              "heartRate        4238.0   75.878716  12.025185  ...   75.0   83.0000  143.0\n",
              "glucose          4238.0   81.603587  22.865246  ...   78.0   85.0000  394.0\n",
              "TenYearCHD       4238.0    0.151958   0.359023  ...    0.0    0.0000    1.0\n",
              "\n",
              "[16 rows x 8 columns]"
            ]
          },
          "metadata": {
            "tags": []
          },
          "execution_count": 22
        }
      ]
    },
    {
      "cell_type": "code",
      "metadata": {
        "colab": {
          "base_uri": "https://localhost:8080/"
        },
        "id": "PAlPhFuWNlU4",
        "outputId": "88051f61-181d-4fb6-975f-45880ad5104c"
      },
      "source": [
        "df.columns"
      ],
      "execution_count": 23,
      "outputs": [
        {
          "output_type": "execute_result",
          "data": {
            "text/plain": [
              "Index(['sex', 'age', 'education', 'currentSmoker', 'cigsPerDay', 'BPMeds',\n",
              "       'prevalentStroke', 'prevalentHyp', 'diabetes', 'totChol', 'sysBP',\n",
              "       'diaBP', 'BMI', 'heartRate', 'glucose', 'TenYearCHD'],\n",
              "      dtype='object')"
            ]
          },
          "metadata": {
            "tags": []
          },
          "execution_count": 23
        }
      ]
    },
    {
      "cell_type": "code",
      "metadata": {
        "id": "--Vzd_gGN7-f"
      },
      "source": [
        "#List of columns with continuos values so we can check outliers. \r\n",
        "\r\n",
        "continuous_col = ['age', 'cigsPerDay','totChol','sysBP','diaBP','BMI','heartRate','glucose']"
      ],
      "execution_count": 24,
      "outputs": []
    },
    {
      "cell_type": "code",
      "metadata": {
        "colab": {
          "base_uri": "https://localhost:8080/",
          "height": 1000
        },
        "id": "ce4AwLAUO32g",
        "outputId": "1e4b382b-20ec-48ef-e108-6be10f981c05"
      },
      "source": [
        "for col in continuous_col:\r\n",
        "  sns.boxplot(df[col])\r\n",
        "  plt.show()"
      ],
      "execution_count": 25,
      "outputs": [
        {
          "output_type": "display_data",
          "data": {
            "image/png": "[encoded data removed]",
            "text/plain": [
              "<Figure size 432x288 with 1 Axes>"
            ]
          },
          "metadata": {
            "tags": [],
            "needs_background": "light"
          }
        },
        {
          "output_type": "display_data",
          "data": {
            "image/png": "[encoded data removed]",
            "text/plain": [
              "<Figure size 432x288 with 1 Axes>"
            ]
          },
          "metadata": {
            "tags": [],
            "needs_background": "light"
          }
        },
        {
          "output_type": "display_data",
          "data": {
            "image/png": "[encoded data removed]",
            "text/plain": [
              "<Figure size 432x288 with 1 Axes>"
            ]
          },
          "metadata": {
            "tags": [],
            "needs_background": "light"
          }
        },
        {
          "output_type": "display_data",
          "data": {
            "image/png": "[encoded data removed]",
            "text/plain": [
              "<Figure size 432x288 with 1 Axes>"
            ]
          },
          "metadata": {
            "tags": [],
            "needs_background": "light"
          }
        },
        {
          "output_type": "display_data",
          "data": {
            "image/png": "[encoded data removed]",
            "text/plain": [
              "<Figure size 432x288 with 1 Axes>"
            ]
          },
          "metadata": {
            "tags": [],
            "needs_background": "light"
          }
        },
        {
          "output_type": "display_data",
          "data": {
            "image/png": "[encoded data removed]",
            "text/plain": [
              "<Figure size 432x288 with 1 Axes>"
            ]
          },
          "metadata": {
            "tags": [],
            "needs_background": "light"
          }
        },
        {
          "output_type": "display_data",
          "data": {
            "image/png": "[encoded data removed]",
            "text/plain": [
              "<Figure size 432x288 with 1 Axes>"
            ]
          },
          "metadata": {
            "tags": [],
            "needs_background": "light"
          }
        },
        {
          "output_type": "display_data",
          "data": {
            "image/png": "[encoded data removed]",
            "text/plain": [
              "<Figure size 432x288 with 1 Axes>"
            ]
          },
          "metadata": {
            "tags": [],
            "needs_background": "light"
          }
        }
      ]
    },
    {
      "cell_type": "code",
      "metadata": {
        "colab": {
          "base_uri": "https://localhost:8080/",
          "height": 279
        },
        "id": "FXsZb6RrFLBY",
        "outputId": "d9ea89c4-33e4-4c4f-b0f6-1d6a27f20242"
      },
      "source": [
        "sns.boxplot(data=df, x='TenYearCHD', y='cigsPerDay')\r\n",
        "plt.show()"
      ],
      "execution_count": 26,
      "outputs": [
        {
          "output_type": "display_data",
          "data": {
            "image/png": "[encoded data removed]",
            "text/plain": [
              "<Figure size 432x288 with 1 Axes>"
            ]
          },
          "metadata": {
            "tags": [],
            "needs_background": "light"
          }
        }
      ]
    },
    {
      "cell_type": "markdown",
      "metadata": {
        "id": "SgwULp9ZP4HR"
      },
      "source": [
        "**As we can notice there are a lot of outliers so we will have to take care of them in order to make our model effective and reliable. **\r\n",
        "\r\n",
        "Columns with outliers : glucose, heartRate, BMI, diaBP, sysBP, totChol, cigsPerDay"
      ]
    },
    {
      "cell_type": "code",
      "metadata": {
        "colab": {
          "base_uri": "https://localhost:8080/",
          "height": 1000
        },
        "id": "IFUN1WscO-y0",
        "outputId": "fb874883-34ba-4927-d614-e95917390cb1"
      },
      "source": [
        "#To check the normal distribution of our continuous_col.\r\n",
        "\r\n",
        "for col in continuous_col:\r\n",
        "  print(\"Skew {} = {}\".format(col, skew(df[col])))\r\n",
        "  sns.distplot(df[col])\r\n",
        "  print(\"\\n\")\r\n",
        "  plt.show()"
      ],
      "execution_count": 27,
      "outputs": [
        {
          "output_type": "stream",
          "text": [
            "Skew age = 0.22806501927587203\n",
            "\n",
            "\n"
          ],
          "name": "stdout"
        },
        {
          "output_type": "display_data",
          "data": {
            "image/png": "[encoded data removed]",
            "text/plain": [
              "<Figure size 432x288 with 1 Axes>"
            ]
          },
          "metadata": {
            "tags": [],
            "needs_background": "light"
          }
        },
        {
          "output_type": "stream",
          "text": [
            "Skew cigsPerDay = 1.2517552681795452\n",
            "\n",
            "\n"
          ],
          "name": "stdout"
        },
        {
          "output_type": "display_data",
          "data": {
            "image/png": "[encoded data removed]",
            "text/plain": [
              "<Figure size 432x288 with 1 Axes>"
            ]
          },
          "metadata": {
            "tags": [],
            "needs_background": "light"
          }
        },
        {
          "output_type": "stream",
          "text": [
            "Skew totChol = 0.8784073145784838\n",
            "\n",
            "\n"
          ],
          "name": "stdout"
        },
        {
          "output_type": "display_data",
          "data": {
            "image/png": "[encoded data removed]",
            "text/plain": [
              "<Figure size 432x288 with 1 Axes>"
            ]
          },
          "metadata": {
            "tags": [],
            "needs_background": "light"
          }
        },
        {
          "output_type": "stream",
          "text": [
            "Skew sysBP = 1.1449567062594848\n",
            "\n",
            "\n"
          ],
          "name": "stdout"
        },
        {
          "output_type": "display_data",
          "data": {
            "image/png": "[encoded data removed]",
            "text/plain": [
              "<Figure size 432x288 with 1 Axes>"
            ]
          },
          "metadata": {
            "tags": [],
            "needs_background": "light"
          }
        },
        {
          "output_type": "stream",
          "text": [
            "Skew diaBP = 0.7138494094062997\n",
            "\n",
            "\n"
          ],
          "name": "stdout"
        },
        {
          "output_type": "display_data",
          "data": {
            "image/png": "[encoded data removed]",
            "text/plain": [
              "<Figure size 432x288 with 1 Axes>"
            ]
          },
          "metadata": {
            "tags": [],
            "needs_background": "light"
          }
        },
        {
          "output_type": "stream",
          "text": [
            "Skew BMI = 0.9850927407330611\n",
            "\n",
            "\n"
          ],
          "name": "stdout"
        },
        {
          "output_type": "display_data",
          "data": {
            "image/png": "[encoded data removed]",
            "text/plain": [
              "<Figure size 432x288 with 1 Axes>"
            ]
          },
          "metadata": {
            "tags": [],
            "needs_background": "light"
          }
        },
        {
          "output_type": "stream",
          "text": [
            "Skew heartRate = 0.6443800064756061\n",
            "\n",
            "\n"
          ],
          "name": "stdout"
        },
        {
          "output_type": "display_data",
          "data": {
            "image/png": "[encoded data removed]",
            "text/plain": [
              "<Figure size 432x288 with 1 Axes>"
            ]
          },
          "metadata": {
            "tags": [],
            "needs_background": "light"
          }
        },
        {
          "output_type": "stream",
          "text": [
            "Skew glucose = 6.539160600337942\n",
            "\n",
            "\n"
          ],
          "name": "stdout"
        },
        {
          "output_type": "display_data",
          "data": {
            "image/png": "[encoded data removed]",
            "text/plain": [
              "<Figure size 432x288 with 1 Axes>"
            ]
          },
          "metadata": {
            "tags": [],
            "needs_background": "light"
          }
        }
      ]
    },
    {
      "cell_type": "code",
      "metadata": {
        "id": "MvTnaI2coGFW"
      },
      "source": [
        "df1 = df.copy()"
      ],
      "execution_count": 28,
      "outputs": []
    },
    {
      "cell_type": "code",
      "metadata": {
        "id": "mx2DgimTRL8f",
        "colab": {
          "base_uri": "https://localhost:8080/"
        },
        "outputId": "7389bf21-7b03-4af6-e5f0-7c5438a86264"
      },
      "source": [
        "for col in continuous_col:\r\n",
        "  q1 = np.quantile(df1[col], 0.25)\r\n",
        "  q3 = np.quantile(df1[col], 0.75)\r\n",
        "  iqr = q3-q1\r\n",
        "  lower_range = q1-(iqr*1.5)\r\n",
        "  upper_range = q3+(iqr*1.5)\r\n",
        "  print(col)\r\n",
        "  print(\"Lower range:\",lower_range)\r\n",
        "  print(\"Upper range:\",upper_range)\r\n",
        "  print(\"\\n\")\r\n",
        "  df1 = df1[(df1[col]>lower_range) & (df1[col]<upper_range)]"
      ],
      "execution_count": 29,
      "outputs": [
        {
          "output_type": "stream",
          "text": [
            "age\n",
            "Lower range: 21.0\n",
            "Upper range: 77.0\n",
            "\n",
            "\n",
            "cigsPerDay\n",
            "Lower range: -30.0\n",
            "Upper range: 50.0\n",
            "\n",
            "\n",
            "totChol\n",
            "Lower range: 122.0\n",
            "Upper range: 346.0\n",
            "\n",
            "\n",
            "sysBP\n",
            "Lower range: 77.25\n",
            "Upper range: 183.25\n",
            "\n",
            "\n",
            "diaBP\n",
            "Lower range: 52.25\n",
            "Upper range: 110.25\n",
            "\n",
            "\n",
            "BMI\n",
            "Lower range: 15.70375\n",
            "Upper range: 35.23375\n",
            "\n",
            "\n",
            "heartRate\n",
            "Lower range: 44.5\n",
            "Upper range: 104.5\n",
            "\n",
            "\n",
            "glucose\n",
            "Lower range: 52.5\n",
            "Upper range: 104.5\n",
            "\n",
            "\n"
          ],
          "name": "stdout"
        }
      ]
    },
    {
      "cell_type": "code",
      "metadata": {
        "colab": {
          "base_uri": "https://localhost:8080/",
          "height": 69
        },
        "id": "j5U9vtZZmkpg",
        "outputId": "04c6b45f-683a-4b2f-f58e-74761cfc52a4"
      },
      "source": [
        "'''df1['age'] = df1[(df1['cigsPerDay'] < 50) & (df1['cigsPerDay'] > -30)]\r\n",
        "df1['totChol'] = df1[(df1['totChol'] > 122) & (df1['totChol'] < 346)]\r\n",
        "df1['sysBP'] = df1[(df1['sysBP'] > 77.25) & (df1['sysBP'] < 183.25)]\r\n",
        "df1['diaBP'] = df1[(df1['diaBP'] > 52.25) & (df1['diaBP'] < 110.25)]\r\n",
        "df1['BMI'] = df1[(df1['BMI'] > 15.70375) & (df1['BMI'] < 35.23375)]\r\n",
        "df1['heartRate'] = df1[(df1['heartRate'] > 44.5) & (df1['heartRate'] < 104.5)]\r\n",
        "df1['glucose'] = df1[(df1['glucose'] > 52.5) & (df1['glucose'] < 104.5)]'''"
      ],
      "execution_count": 30,
      "outputs": [
        {
          "output_type": "execute_result",
          "data": {
            "application/vnd.google.colaboratory.intrinsic+json": {
              "type": "string"
            },
            "text/plain": [
              "\"df1['age'] = df1[(df1['cigsPerDay'] < 50) & (df1['cigsPerDay'] > -30)]\\ndf1['totChol'] = df1[(df1['totChol'] > 122) & (df1['totChol'] < 346)]\\ndf1['sysBP'] = df1[(df1['sysBP'] > 77.25) & (df1['sysBP'] < 183.25)]\\ndf1['diaBP'] = df1[(df1['diaBP'] > 52.25) & (df1['diaBP'] < 110.25)]\\ndf1['BMI'] = df1[(df1['BMI'] > 15.70375) & (df1['BMI'] < 35.23375)]\\ndf1['heartRate'] = df1[(df1['heartRate'] > 44.5) & (df1['heartRate'] < 104.5)]\\ndf1['glucose'] = df1[(df1['glucose'] > 52.5) & (df1['glucose'] < 104.5)]\""
            ]
          },
          "metadata": {
            "tags": []
          },
          "execution_count": 30
        }
      ]
    },
    {
      "cell_type": "code",
      "metadata": {
        "colab": {
          "base_uri": "https://localhost:8080/",
          "height": 195
        },
        "id": "0mxdM3MoV5lA",
        "outputId": "c2f71cfa-a184-46b9-b7ed-0ff30ce0a077"
      },
      "source": [
        "df1.head()"
      ],
      "execution_count": 31,
      "outputs": [
        {
          "output_type": "execute_result",
          "data": {
            "text/html": [
              "<div>\n",
              "<style scoped>\n",
              "    .dataframe tbody tr th:only-of-type {\n",
              "        vertical-align: middle;\n",
              "    }\n",
              "\n",
              "    .dataframe tbody tr th {\n",
              "        vertical-align: top;\n",
              "    }\n",
              "\n",
              "    .dataframe thead th {\n",
              "        text-align: right;\n",
              "    }\n",
              "</style>\n",
              "<table border=\"1\" class=\"dataframe\">\n",
              "  <thead>\n",
              "    <tr style=\"text-align: right;\">\n",
              "      <th></th>\n",
              "      <th>sex</th>\n",
              "      <th>age</th>\n",
              "      <th>education</th>\n",
              "      <th>currentSmoker</th>\n",
              "      <th>cigsPerDay</th>\n",
              "      <th>BPMeds</th>\n",
              "      <th>prevalentStroke</th>\n",
              "      <th>prevalentHyp</th>\n",
              "      <th>diabetes</th>\n",
              "      <th>totChol</th>\n",
              "      <th>sysBP</th>\n",
              "      <th>diaBP</th>\n",
              "      <th>BMI</th>\n",
              "      <th>heartRate</th>\n",
              "      <th>glucose</th>\n",
              "      <th>TenYearCHD</th>\n",
              "    </tr>\n",
              "  </thead>\n",
              "  <tbody>\n",
              "    <tr>\n",
              "      <th>0</th>\n",
              "      <td>1</td>\n",
              "      <td>39</td>\n",
              "      <td>4.0</td>\n",
              "      <td>0</td>\n",
              "      <td>0.0</td>\n",
              "      <td>0.0</td>\n",
              "      <td>0</td>\n",
              "      <td>0</td>\n",
              "      <td>0</td>\n",
              "      <td>195.0</td>\n",
              "      <td>106.0</td>\n",
              "      <td>70.0</td>\n",
              "      <td>26.97</td>\n",
              "      <td>80.0</td>\n",
              "      <td>77.0</td>\n",
              "      <td>0</td>\n",
              "    </tr>\n",
              "    <tr>\n",
              "      <th>1</th>\n",
              "      <td>0</td>\n",
              "      <td>46</td>\n",
              "      <td>2.0</td>\n",
              "      <td>0</td>\n",
              "      <td>0.0</td>\n",
              "      <td>0.0</td>\n",
              "      <td>0</td>\n",
              "      <td>0</td>\n",
              "      <td>0</td>\n",
              "      <td>250.0</td>\n",
              "      <td>121.0</td>\n",
              "      <td>81.0</td>\n",
              "      <td>28.73</td>\n",
              "      <td>95.0</td>\n",
              "      <td>76.0</td>\n",
              "      <td>0</td>\n",
              "    </tr>\n",
              "    <tr>\n",
              "      <th>2</th>\n",
              "      <td>1</td>\n",
              "      <td>48</td>\n",
              "      <td>1.0</td>\n",
              "      <td>1</td>\n",
              "      <td>20.0</td>\n",
              "      <td>0.0</td>\n",
              "      <td>0</td>\n",
              "      <td>0</td>\n",
              "      <td>0</td>\n",
              "      <td>245.0</td>\n",
              "      <td>127.5</td>\n",
              "      <td>80.0</td>\n",
              "      <td>25.34</td>\n",
              "      <td>75.0</td>\n",
              "      <td>70.0</td>\n",
              "      <td>0</td>\n",
              "    </tr>\n",
              "    <tr>\n",
              "      <th>3</th>\n",
              "      <td>0</td>\n",
              "      <td>61</td>\n",
              "      <td>3.0</td>\n",
              "      <td>1</td>\n",
              "      <td>30.0</td>\n",
              "      <td>0.0</td>\n",
              "      <td>0</td>\n",
              "      <td>1</td>\n",
              "      <td>0</td>\n",
              "      <td>225.0</td>\n",
              "      <td>150.0</td>\n",
              "      <td>95.0</td>\n",
              "      <td>28.58</td>\n",
              "      <td>65.0</td>\n",
              "      <td>103.0</td>\n",
              "      <td>1</td>\n",
              "    </tr>\n",
              "    <tr>\n",
              "      <th>4</th>\n",
              "      <td>0</td>\n",
              "      <td>46</td>\n",
              "      <td>3.0</td>\n",
              "      <td>1</td>\n",
              "      <td>23.0</td>\n",
              "      <td>0.0</td>\n",
              "      <td>0</td>\n",
              "      <td>0</td>\n",
              "      <td>0</td>\n",
              "      <td>285.0</td>\n",
              "      <td>130.0</td>\n",
              "      <td>84.0</td>\n",
              "      <td>23.10</td>\n",
              "      <td>85.0</td>\n",
              "      <td>85.0</td>\n",
              "      <td>0</td>\n",
              "    </tr>\n",
              "  </tbody>\n",
              "</table>\n",
              "</div>"
            ],
            "text/plain": [
              "   sex  age  education  currentSmoker  ...    BMI  heartRate  glucose  TenYearCHD\n",
              "0    1   39        4.0              0  ...  26.97       80.0     77.0           0\n",
              "1    0   46        2.0              0  ...  28.73       95.0     76.0           0\n",
              "2    1   48        1.0              1  ...  25.34       75.0     70.0           0\n",
              "3    0   61        3.0              1  ...  28.58       65.0    103.0           1\n",
              "4    0   46        3.0              1  ...  23.10       85.0     85.0           0\n",
              "\n",
              "[5 rows x 16 columns]"
            ]
          },
          "metadata": {
            "tags": []
          },
          "execution_count": 31
        }
      ]
    },
    {
      "cell_type": "code",
      "metadata": {
        "colab": {
          "base_uri": "https://localhost:8080/"
        },
        "id": "FTL7MVIjJkMN",
        "outputId": "feff4892-9256-486c-adee-b9dc3b7d305c"
      },
      "source": [
        "print('There were {} rows before outlier treatment.'.format(df.shape[0]))\r\n",
        "print('There are {} rows after outlier treatment.'.format(df1.shape[0]))\r\n",
        "print('After outlier treatment number of rows lost are {}.'.format(df.shape[0] - df1.shape[0]))"
      ],
      "execution_count": 32,
      "outputs": [
        {
          "output_type": "stream",
          "text": [
            "There were 4238 rows before outlier treatment.\n",
            "There are 3620 rows after outlier treatment.\n",
            "After outlier treatment number of rows lost are 618.\n"
          ],
          "name": "stdout"
        }
      ]
    },
    {
      "cell_type": "code",
      "metadata": {
        "colab": {
          "base_uri": "https://localhost:8080/",
          "height": 265
        },
        "id": "RcCPYpnmHjeZ",
        "outputId": "b016a341-8830-48f0-c5a9-92b7db747da6"
      },
      "source": [
        "df['age'].hist(bins=15)\r\n",
        "plt.show()"
      ],
      "execution_count": 33,
      "outputs": [
        {
          "output_type": "display_data",
          "data": {
            "image/png": "[encoded data removed]",
            "text/plain": [
              "<Figure size 432x288 with 1 Axes>"
            ]
          },
          "metadata": {
            "tags": [],
            "needs_background": "light"
          }
        }
      ]
    },
    {
      "cell_type": "code",
      "metadata": {
        "colab": {
          "base_uri": "https://localhost:8080/",
          "height": 276
        },
        "id": "CQVWqLvtI5dP",
        "outputId": "b3ae519b-4e3c-4e0d-a321-fcc913f09205"
      },
      "source": [
        "graph = pd.crosstab(df['currentSmoker'], df['TenYearCHD'])\r\n",
        "graph.div(graph.sum(0).astype('float'), axis=0).plot(kind='bar', stacked=True)\r\n",
        "plt.show()"
      ],
      "execution_count": 34,
      "outputs": [
        {
          "output_type": "display_data",
          "data": {
            "image/png": "[encoded data removed]",
            "text/plain": [
              "<Figure size 432x288 with 1 Axes>"
            ]
          },
          "metadata": {
            "tags": [],
            "needs_background": "light"
          }
        }
      ]
    },
    {
      "cell_type": "code",
      "metadata": {
        "colab": {
          "base_uri": "https://localhost:8080/",
          "height": 1000
        },
        "id": "LSZiGDPOHMGS",
        "outputId": "91625bac-bb12-4c65-bb64-c3ab2b9573d5"
      },
      "source": [
        "for col in continuous_col:\r\n",
        "  sns.boxplot(df1[col])\r\n",
        "  plt.show()"
      ],
      "execution_count": 35,
      "outputs": [
        {
          "output_type": "display_data",
          "data": {
            "image/png": "[encoded data removed]",
            "text/plain": [
              "<Figure size 432x288 with 1 Axes>"
            ]
          },
          "metadata": {
            "tags": [],
            "needs_background": "light"
          }
        },
        {
          "output_type": "display_data",
          "data": {
            "image/png": "[encoded data removed]",
            "text/plain": [
              "<Figure size 432x288 with 1 Axes>"
            ]
          },
          "metadata": {
            "tags": [],
            "needs_background": "light"
          }
        },
        {
          "output_type": "display_data",
          "data": {
            "image/png": "[encoded data removed]",
            "text/plain": [
              "<Figure size 432x288 with 1 Axes>"
            ]
          },
          "metadata": {
            "tags": [],
            "needs_background": "light"
          }
        },
        {
          "output_type": "display_data",
          "data": {
            "image/png": "[encoded data removed]",
            "text/plain": [
              "<Figure size 432x288 with 1 Axes>"
            ]
          },
          "metadata": {
            "tags": [],
            "needs_background": "light"
          }
        },
        {
          "output_type": "display_data",
          "data": {
            "image/png": "[encoded data removed]",
            "text/plain": [
              "<Figure size 432x288 with 1 Axes>"
            ]
          },
          "metadata": {
            "tags": [],
            "needs_background": "light"
          }
        },
        {
          "output_type": "display_data",
          "data": {
            "image/png": "[encoded data removed]",
            "text/plain": [
              "<Figure size 432x288 with 1 Axes>"
            ]
          },
          "metadata": {
            "tags": [],
            "needs_background": "light"
          }
        },
        {
          "output_type": "display_data",
          "data": {
            "image/png": "[encoded data removed]",
            "text/plain": [
              "<Figure size 432x288 with 1 Axes>"
            ]
          },
          "metadata": {
            "tags": [],
            "needs_background": "light"
          }
        },
        {
          "output_type": "display_data",
          "data": {
            "image/png": "[encoded data removed]",
            "text/plain": [
              "<Figure size 432x288 with 1 Axes>"
            ]
          },
          "metadata": {
            "tags": [],
            "needs_background": "light"
          }
        }
      ]
    },
    {
      "cell_type": "code",
      "metadata": {
        "colab": {
          "base_uri": "https://localhost:8080/",
          "height": 1000
        },
        "id": "AFHelUnaWBg_",
        "outputId": "46d35226-676e-4d09-b7bf-d3bc6299ff97"
      },
      "source": [
        "#To check the normal distribution of our continuous_col after removing the outliers. \r\n",
        "\r\n",
        "for col in continuous_col:\r\n",
        "  print(\"Skew {} = {}\".format(col, skew(df1[col])))\r\n",
        "  sns.distplot(df1[col])\r\n",
        "  print(\"\\n\")\r\n",
        "  plt.show()"
      ],
      "execution_count": 36,
      "outputs": [
        {
          "output_type": "stream",
          "text": [
            "Skew age = 0.3029958308359904\n",
            "\n",
            "\n"
          ],
          "name": "stdout"
        },
        {
          "output_type": "display_data",
          "data": {
            "image/png": "[encoded data removed]",
            "text/plain": [
              "<Figure size 432x288 with 1 Axes>"
            ]
          },
          "metadata": {
            "tags": [],
            "needs_background": "light"
          }
        },
        {
          "output_type": "stream",
          "text": [
            "Skew cigsPerDay = 1.0750351915985203\n",
            "\n",
            "\n"
          ],
          "name": "stdout"
        },
        {
          "output_type": "display_data",
          "data": {
            "image/png": "[encoded data removed]",
            "text/plain": [
              "<Figure size 432x288 with 1 Axes>"
            ]
          },
          "metadata": {
            "tags": [],
            "needs_background": "light"
          }
        },
        {
          "output_type": "stream",
          "text": [
            "Skew totChol = 0.23679922436458123\n",
            "\n",
            "\n"
          ],
          "name": "stdout"
        },
        {
          "output_type": "display_data",
          "data": {
            "image/png": "[encoded data removed]",
            "text/plain": [
              "<Figure size 432x288 with 1 Axes>"
            ]
          },
          "metadata": {
            "tags": [],
            "needs_background": "light"
          }
        },
        {
          "output_type": "stream",
          "text": [
            "Skew sysBP = 0.609067753928063\n",
            "\n",
            "\n"
          ],
          "name": "stdout"
        },
        {
          "output_type": "display_data",
          "data": {
            "image/png": "[encoded data removed]",
            "text/plain": [
              "<Figure size 432x288 with 1 Axes>"
            ]
          },
          "metadata": {
            "tags": [],
            "needs_background": "light"
          }
        },
        {
          "output_type": "stream",
          "text": [
            "Skew diaBP = 0.2522901957956041\n",
            "\n",
            "\n"
          ],
          "name": "stdout"
        },
        {
          "output_type": "display_data",
          "data": {
            "image/png": "[encoded data removed]",
            "text/plain": [
              "<Figure size 432x288 with 1 Axes>"
            ]
          },
          "metadata": {
            "tags": [],
            "needs_background": "light"
          }
        },
        {
          "output_type": "stream",
          "text": [
            "Skew BMI = 0.26708754364760307\n",
            "\n",
            "\n"
          ],
          "name": "stdout"
        },
        {
          "output_type": "display_data",
          "data": {
            "image/png": "[encoded data removed]",
            "text/plain": [
              "<Figure size 432x288 with 1 Axes>"
            ]
          },
          "metadata": {
            "tags": [],
            "needs_background": "light"
          }
        },
        {
          "output_type": "stream",
          "text": [
            "Skew heartRate = 0.2549284675774083\n",
            "\n",
            "\n"
          ],
          "name": "stdout"
        },
        {
          "output_type": "display_data",
          "data": {
            "image/png": "[encoded data removed]",
            "text/plain": [
              "<Figure size 432x288 with 1 Axes>"
            ]
          },
          "metadata": {
            "tags": [],
            "needs_background": "light"
          }
        },
        {
          "output_type": "stream",
          "text": [
            "Skew glucose = 0.2822485807148535\n",
            "\n",
            "\n"
          ],
          "name": "stdout"
        },
        {
          "output_type": "display_data",
          "data": {
            "image/png": "[encoded data removed]",
            "text/plain": [
              "<Figure size 432x288 with 1 Axes>"
            ]
          },
          "metadata": {
            "tags": [],
            "needs_background": "light"
          }
        }
      ]
    },
    {
      "cell_type": "code",
      "metadata": {
        "id": "ImL0sOKc9PyW"
      },
      "source": [
        "#Adjust the normal distribution of columns since they are not distributed very well for our model. Range of skew is -0.5 to 0.5 \r\n",
        "\r\n",
        "#df1['cigsPerDay'] = np.sqrt(df1['cigsPerDay'])\r\n",
        "#skew(df1['cigsPerDay'])"
      ],
      "execution_count": 37,
      "outputs": []
    },
    {
      "cell_type": "code",
      "metadata": {
        "id": "9yZgZziR9uaq"
      },
      "source": [
        "#df1['totChol'] = np.sqrt(df1['totChol'])\r\n",
        "#skew(df1['totChol'])"
      ],
      "execution_count": 38,
      "outputs": []
    },
    {
      "cell_type": "code",
      "metadata": {
        "id": "ceJ68VH896ik"
      },
      "source": [
        "#df1['sysBP'] = np.cbrt(df1['sysBP'])\r\n",
        "#skew(df1['sysBP'])"
      ],
      "execution_count": 39,
      "outputs": []
    },
    {
      "cell_type": "code",
      "metadata": {
        "id": "Lxgtddj8-JgH"
      },
      "source": [
        "#df1['diaBP'] = np.sqrt(df1['diaBP'])\r\n",
        "#skew(df1['diaBP'])"
      ],
      "execution_count": 40,
      "outputs": []
    },
    {
      "cell_type": "code",
      "metadata": {
        "id": "5EwUa2it-S1h"
      },
      "source": [
        "#df1['BMI'] = np.cbrt(df1['BMI'])\r\n",
        "#skew(df1['BMI'])  "
      ],
      "execution_count": 41,
      "outputs": []
    },
    {
      "cell_type": "code",
      "metadata": {
        "id": "c7ZDyDJ8-YEF"
      },
      "source": [
        "#df1['heartRate'] = np.sqrt(df1['heartRate'])\r\n",
        "#skew(df1['heartRate'])"
      ],
      "execution_count": 42,
      "outputs": []
    },
    {
      "cell_type": "code",
      "metadata": {
        "id": "F01RFhqpWJ9u"
      },
      "source": [
        "from sklearn.feature_selection import SelectKBest, f_regression\r\n",
        "from sklearn.feature_selection import chi2"
      ],
      "execution_count": 43,
      "outputs": []
    },
    {
      "cell_type": "code",
      "metadata": {
        "colab": {
          "base_uri": "https://localhost:8080/"
        },
        "id": "yXMaSGjAyb0s",
        "outputId": "56c13051-b17a-4aa2-b041-802e79f94d05"
      },
      "source": [
        "x = df1.drop('TenYearCHD', axis=1)\r\n",
        "y = df1['TenYearCHD']\r\n",
        "\r\n",
        "Annova = SelectKBest(score_func=chi2, k=8)\r\n",
        "fit = Annova.fit(x, y)\r\n",
        "df_scores = pd.DataFrame(fit.scores_)\r\n",
        "df_columns = pd.DataFrame(x.columns)\r\n",
        "\r\n",
        "featurescores = pd.concat([df_columns, df_scores], axis=1) #Creating a new dataset with column name and score. \r\n",
        "featurescores.columns = ['Specifications', 'Score']   #Naming the columns\r\n",
        "print(featurescores.nlargest(15, 'Score'))   #Checking score of 13 best features based on their score. "
      ],
      "execution_count": 44,
      "outputs": [
        {
          "output_type": "stream",
          "text": [
            "     Specifications       Score\n",
            "4        cigsPerDay  265.830401\n",
            "10            sysBP  260.690443\n",
            "1               age  241.038715\n",
            "9           totChol  122.892457\n",
            "7      prevalentHyp   53.869605\n",
            "11            diaBP   44.813379\n",
            "0               sex   20.572983\n",
            "6   prevalentStroke   15.112445\n",
            "5            BPMeds    7.770997\n",
            "12              BMI    5.645551\n",
            "2         education    4.183609\n",
            "3     currentSmoker    1.946936\n",
            "13        heartRate    0.612689\n",
            "8          diabetes    0.100801\n",
            "14          glucose    0.068451\n"
          ],
          "name": "stdout"
        }
      ]
    },
    {
      "cell_type": "code",
      "metadata": {
        "id": "GvwvDRDL_7ru"
      },
      "source": [
        "featurescores = featurescores.sort_values(by='Score', ascending=False)"
      ],
      "execution_count": 45,
      "outputs": []
    },
    {
      "cell_type": "code",
      "metadata": {
        "colab": {
          "base_uri": "https://localhost:8080/",
          "height": 458
        },
        "id": "T6uud65I-yMN",
        "outputId": "f1b9054e-df4c-4fa3-b837-bed6885a43ed"
      },
      "source": [
        "plt.figure(figsize=(7,7))\r\n",
        "sns.barplot(data=featurescores, x='Score', y='Specifications')\r\n",
        "plt.title('Feature scores')\r\n",
        "plt.xlabel('Specs')\r\n",
        "plt.ylabel('Score')\r\n",
        "plt.xticks(rotation=0)\r\n",
        "plt.show()"
      ],
      "execution_count": 46,
      "outputs": [
        {
          "output_type": "display_data",
          "data": {
            "image/png": "[encoded data removed]",
            "text/plain": [
              "<Figure size 504x504 with 1 Axes>"
            ]
          },
          "metadata": {
            "tags": [],
            "needs_background": "light"
          }
        }
      ]
    },
    {
      "cell_type": "code",
      "metadata": {
        "colab": {
          "base_uri": "https://localhost:8080/"
        },
        "id": "fJAJCSxq9GE7",
        "outputId": "c6a445fd-f0a4-409b-d9e0-3582ec52ba6d"
      },
      "source": [
        "# Now lets make a list of our top 8 columns\r\n",
        "feature_list = featurescores['Specifications'].tolist()[:8]\r\n",
        "feature_list"
      ],
      "execution_count": 47,
      "outputs": [
        {
          "output_type": "execute_result",
          "data": {
            "text/plain": [
              "['cigsPerDay',\n",
              " 'sysBP',\n",
              " 'age',\n",
              " 'totChol',\n",
              " 'prevalentHyp',\n",
              " 'diaBP',\n",
              " 'sex',\n",
              " 'prevalentStroke']"
            ]
          },
          "metadata": {
            "tags": []
          },
          "execution_count": 47
        }
      ]
    },
    {
      "cell_type": "code",
      "metadata": {
        "colab": {
          "base_uri": "https://localhost:8080/",
          "height": 195
        },
        "id": "0Ki1sSwgAhT3",
        "outputId": "fff331a9-d9af-4932-cbd5-327862b8cff8"
      },
      "source": [
        "df2 = df1[feature_list]\r\n",
        "df2['TenYearCHD'] = df1['TenYearCHD']\r\n",
        "df2.head()"
      ],
      "execution_count": 48,
      "outputs": [
        {
          "output_type": "execute_result",
          "data": {
            "text/html": [
              "<div>\n",
              "<style scoped>\n",
              "    .dataframe tbody tr th:only-of-type {\n",
              "        vertical-align: middle;\n",
              "    }\n",
              "\n",
              "    .dataframe tbody tr th {\n",
              "        vertical-align: top;\n",
              "    }\n",
              "\n",
              "    .dataframe thead th {\n",
              "        text-align: right;\n",
              "    }\n",
              "</style>\n",
              "<table border=\"1\" class=\"dataframe\">\n",
              "  <thead>\n",
              "    <tr style=\"text-align: right;\">\n",
              "      <th></th>\n",
              "      <th>cigsPerDay</th>\n",
              "      <th>sysBP</th>\n",
              "      <th>age</th>\n",
              "      <th>totChol</th>\n",
              "      <th>prevalentHyp</th>\n",
              "      <th>diaBP</th>\n",
              "      <th>sex</th>\n",
              "      <th>prevalentStroke</th>\n",
              "      <th>TenYearCHD</th>\n",
              "    </tr>\n",
              "  </thead>\n",
              "  <tbody>\n",
              "    <tr>\n",
              "      <th>0</th>\n",
              "      <td>0.0</td>\n",
              "      <td>106.0</td>\n",
              "      <td>39</td>\n",
              "      <td>195.0</td>\n",
              "      <td>0</td>\n",
              "      <td>70.0</td>\n",
              "      <td>1</td>\n",
              "      <td>0</td>\n",
              "      <td>0</td>\n",
              "    </tr>\n",
              "    <tr>\n",
              "      <th>1</th>\n",
              "      <td>0.0</td>\n",
              "      <td>121.0</td>\n",
              "      <td>46</td>\n",
              "      <td>250.0</td>\n",
              "      <td>0</td>\n",
              "      <td>81.0</td>\n",
              "      <td>0</td>\n",
              "      <td>0</td>\n",
              "      <td>0</td>\n",
              "    </tr>\n",
              "    <tr>\n",
              "      <th>2</th>\n",
              "      <td>20.0</td>\n",
              "      <td>127.5</td>\n",
              "      <td>48</td>\n",
              "      <td>245.0</td>\n",
              "      <td>0</td>\n",
              "      <td>80.0</td>\n",
              "      <td>1</td>\n",
              "      <td>0</td>\n",
              "      <td>0</td>\n",
              "    </tr>\n",
              "    <tr>\n",
              "      <th>3</th>\n",
              "      <td>30.0</td>\n",
              "      <td>150.0</td>\n",
              "      <td>61</td>\n",
              "      <td>225.0</td>\n",
              "      <td>1</td>\n",
              "      <td>95.0</td>\n",
              "      <td>0</td>\n",
              "      <td>0</td>\n",
              "      <td>1</td>\n",
              "    </tr>\n",
              "    <tr>\n",
              "      <th>4</th>\n",
              "      <td>23.0</td>\n",
              "      <td>130.0</td>\n",
              "      <td>46</td>\n",
              "      <td>285.0</td>\n",
              "      <td>0</td>\n",
              "      <td>84.0</td>\n",
              "      <td>0</td>\n",
              "      <td>0</td>\n",
              "      <td>0</td>\n",
              "    </tr>\n",
              "  </tbody>\n",
              "</table>\n",
              "</div>"
            ],
            "text/plain": [
              "   cigsPerDay  sysBP  age  totChol  ...  diaBP  sex  prevalentStroke  TenYearCHD\n",
              "0         0.0  106.0   39    195.0  ...   70.0    1                0           0\n",
              "1         0.0  121.0   46    250.0  ...   81.0    0                0           0\n",
              "2        20.0  127.5   48    245.0  ...   80.0    1                0           0\n",
              "3        30.0  150.0   61    225.0  ...   95.0    0                0           1\n",
              "4        23.0  130.0   46    285.0  ...   84.0    0                0           0\n",
              "\n",
              "[5 rows x 9 columns]"
            ]
          },
          "metadata": {
            "tags": []
          },
          "execution_count": 48
        }
      ]
    },
    {
      "cell_type": "code",
      "metadata": {
        "colab": {
          "base_uri": "https://localhost:8080/",
          "height": 556
        },
        "id": "ME1nLAxIB4Y6",
        "outputId": "79834b5c-46eb-4e3d-c443-5d701be4985b"
      },
      "source": [
        "plt.figure(figsize=(8,8))\r\n",
        "sns.heatmap(df2.corr(), annot=True, cmap='viridis', linewidth=0)\r\n",
        "plt.show()"
      ],
      "execution_count": 49,
      "outputs": [
        {
          "output_type": "display_data",
          "data": {
            "image/png": "[encoded data removed]",
            "text/plain": [
              "<Figure size 576x576 with 2 Axes>"
            ]
          },
          "metadata": {
            "tags": [],
            "needs_background": "light"
          }
        }
      ]
    },
    {
      "cell_type": "code",
      "metadata": {
        "colab": {
          "base_uri": "https://localhost:8080/"
        },
        "id": "0DMQcBLqCugz",
        "outputId": "cda13d53-4197-4239-daa6-e36c6341e0ab"
      },
      "source": [
        "from sklearn.linear_model import LogisticRegression\r\n",
        "from sklearn.model_selection import train_test_split\r\n",
        "logr = LogisticRegression(solver='liblinear', fit_intercept=True)\r\n",
        "x1 = df2.drop(['TenYearCHD'], axis=1)\r\n",
        "y1 = df2['TenYearCHD']\r\n",
        "\r\n",
        "x_train, x_test, y_train, y_test = train_test_split(x1, y1, test_size=0.3)\r\n",
        "logr.fit(x_train, y_train)\r\n",
        "y_predict = logr.predict(x_test)\r\n",
        "logr.score(x_test, y_test)"
      ],
      "execution_count": 87,
      "outputs": [
        {
          "output_type": "execute_result",
          "data": {
            "text/plain": [
              "0.8830570902394107"
            ]
          },
          "metadata": {
            "tags": []
          },
          "execution_count": 87
        }
      ]
    },
    {
      "cell_type": "code",
      "metadata": {
        "id": "aJ75ietwjzK3"
      },
      "source": [
        "from sklearn.metrics import (confusion_matrix, accuracy_score, f1_score, recall_score, precision_score, roc_auc_score, roc_curve, classification_report)"
      ],
      "execution_count": 51,
      "outputs": []
    },
    {
      "cell_type": "code",
      "metadata": {
        "colab": {
          "base_uri": "https://localhost:8080/"
        },
        "id": "3gouMSNkkChM",
        "outputId": "02304984-0d68-4f01-a9b5-8f2b082a5a88"
      },
      "source": [
        "(tn, fp), (fn, tp) = confusion_matrix(y_test, y_predict)\r\n",
        "print(tp, fp)\r\n",
        "print(fn, tn)"
      ],
      "execution_count": 52,
      "outputs": [
        {
          "output_type": "stream",
          "text": [
            "2 0\n",
            "139 945\n"
          ],
          "name": "stdout"
        }
      ]
    },
    {
      "cell_type": "code",
      "metadata": {
        "colab": {
          "base_uri": "https://localhost:8080/"
        },
        "id": "NwBH5ef-kS5t",
        "outputId": "d522438b-a28c-4885-d4fe-b5c9deac7658"
      },
      "source": [
        "print(\"Accuracy score: \",accuracy_score(y_test, y_predict))\r\n",
        "print(\"Precision score: \",precision_score(y_test, y_predict))\r\n",
        "print(\"Recall score: \",recall_score(y_test, y_predict))\r\n",
        "print(\"f1_score: \",f1_score(y_test, y_predict))\r\n",
        "print(\"\\nClassification report\\n\",classification_report(y_test, y_predict))"
      ],
      "execution_count": 53,
      "outputs": [
        {
          "output_type": "stream",
          "text": [
            "Accuracy score:  0.8720073664825047\n",
            "Precision score:  1.0\n",
            "Recall score:  0.014184397163120567\n",
            "f1_score:  0.027972027972027972\n",
            "\n",
            "Classification report\n",
            "               precision    recall  f1-score   support\n",
            "\n",
            "           0       0.87      1.00      0.93       945\n",
            "           1       1.00      0.01      0.03       141\n",
            "\n",
            "    accuracy                           0.87      1086\n",
            "   macro avg       0.94      0.51      0.48      1086\n",
            "weighted avg       0.89      0.87      0.81      1086\n",
            "\n"
          ],
          "name": "stdout"
        }
      ]
    },
    {
      "cell_type": "markdown",
      "metadata": {
        "id": "LMF5IHiIzd-l"
      },
      "source": [
        "Our f1 score for 0 is great but for 1 its almost 0 hence we need to balance the dataset like we talked about in the very beginning. "
      ]
    },
    {
      "cell_type": "code",
      "metadata": {
        "colab": {
          "base_uri": "https://localhost:8080/",
          "height": 279
        },
        "id": "0OBCbFeRkfPz",
        "outputId": "ab437960-b2e9-4d12-9eb4-77f12e1bd87e"
      },
      "source": [
        "fpr, tpr, thres = roc_curve(y_test, y_predict)\r\n",
        "plt.plot(fpr, tpr, 'g-')\r\n",
        "plt.plot([0,1], [0,1], 'b-')\r\n",
        "plt.plot([0,0,1], [0,1,1], 'r-')\r\n",
        "plt.xlabel('False positive rate')\r\n",
        "plt.ylabel('True positive rate')\r\n",
        "plt.show()"
      ],
      "execution_count": 54,
      "outputs": [
        {
          "output_type": "display_data",
          "data": {
            "image/png": "[encoded data removed]",
            "text/plain": [
              "<Figure size 432x288 with 1 Axes>"
            ]
          },
          "metadata": {
            "tags": [],
            "needs_background": "light"
          }
        }
      ]
    },
    {
      "cell_type": "code",
      "metadata": {
        "id": "YIfsorCOlIki",
        "colab": {
          "base_uri": "https://localhost:8080/"
        },
        "outputId": "dcd3d0e8-83e9-4936-8ad6-f6ba938074b8"
      },
      "source": [
        "roc_auc_score(y_test, y_predict)"
      ],
      "execution_count": 55,
      "outputs": [
        {
          "output_type": "execute_result",
          "data": {
            "text/plain": [
              "0.5070921985815603"
            ]
          },
          "metadata": {
            "tags": []
          },
          "execution_count": 55
        }
      ]
    },
    {
      "cell_type": "markdown",
      "metadata": {
        "id": "Dh70AIMFG8Y1"
      },
      "source": [
        "**Forward and Backward selection of features in order to identify how many features are exactly perfect for this scenario.**"
      ]
    },
    {
      "cell_type": "code",
      "metadata": {
        "id": "6eTsEe6HOCbo"
      },
      "source": [
        "from mlxtend.feature_selection import SequentialFeatureSelector"
      ],
      "execution_count": 56,
      "outputs": []
    },
    {
      "cell_type": "code",
      "metadata": {
        "colab": {
          "base_uri": "https://localhost:8080/"
        },
        "id": "XZikq9B0Rk5A",
        "outputId": "36d3180e-f085-427f-a2e8-3a35a09fec1a"
      },
      "source": [
        "sfs = SequentialFeatureSelector(LogisticRegression(), k_features=8, forward=True, scoring='r2', cv=5, n_jobs=5)\r\n",
        "sfs.fit(x,y)\r\n",
        "sfs.k_feature_names_ #top 8 columns "
      ],
      "execution_count": 57,
      "outputs": [
        {
          "output_type": "execute_result",
          "data": {
            "text/plain": [
              "('sex',\n",
              " 'age',\n",
              " 'cigsPerDay',\n",
              " 'prevalentStroke',\n",
              " 'prevalentHyp',\n",
              " 'diabetes',\n",
              " 'sysBP',\n",
              " 'heartRate')"
            ]
          },
          "metadata": {
            "tags": []
          },
          "execution_count": 57
        }
      ]
    },
    {
      "cell_type": "code",
      "metadata": {
        "colab": {
          "base_uri": "https://localhost:8080/"
        },
        "id": "j43ba_w-SsBi",
        "outputId": "a0cfe655-4522-4652-e2a8-608d87a40edf"
      },
      "source": [
        "x_fwd = df1[list(sfs.k_feature_names_)]\r\n",
        "y_fwd = df1['TenYearCHD']\r\n",
        "\r\n",
        "x_fwd_train, x_fwd_test, y_fwd_train, y_fwd_test = train_test_split(x_fwd, y_fwd, test_size=0.25)\r\n",
        "lr = LogisticRegression()\r\n",
        "lr.fit(x_fwd_train, y_fwd_train)\r\n",
        "lr.score(x_fwd_test, y_fwd_test)"
      ],
      "execution_count": 58,
      "outputs": [
        {
          "output_type": "execute_result",
          "data": {
            "text/plain": [
              "0.8685082872928177"
            ]
          },
          "metadata": {
            "tags": []
          },
          "execution_count": 58
        }
      ]
    },
    {
      "cell_type": "code",
      "metadata": {
        "colab": {
          "base_uri": "https://localhost:8080/"
        },
        "id": "AXYe2fuRcoWO",
        "outputId": "9348e9c0-d9b4-4998-e028-97003b50ec2f"
      },
      "source": [
        "d = {}\r\n",
        "for i in range(1,8):\r\n",
        "  sfs = SequentialFeatureSelector(LogisticRegression(), k_features=i, cv=5, n_jobs=1, forward=True, scoring='r2', verbose=2)\r\n",
        "  sfs.fit(x,y)\r\n",
        "  x_fwd = df1[list(sfs.k_feature_names_)]\r\n",
        "  y_fwd = df1['TenYearCHD']\r\n",
        "  x_fwd_train, x_fwd_test, y_fwd_train, y_fwd_test = train_test_split(x_fwd, y_fwd, test_size=0.25)\r\n",
        "\r\n",
        "  lr = LogisticRegression()\r\n",
        "  lr.fit(x_fwd_train, y_fwd_train)\r\n",
        "  print(i, lr.score(x_fwd_test, y_fwd_test))"
      ],
      "execution_count": 59,
      "outputs": [
        {
          "output_type": "stream",
          "text": [
            "[Parallel(n_jobs=1)]: Using backend SequentialBackend with 1 concurrent workers.\n",
            "[Parallel(n_jobs=1)]: Done   1 out of   1 | elapsed:    0.0s remaining:    0.0s\n",
            "[Parallel(n_jobs=1)]: Done  15 out of  15 | elapsed:    0.8s finished\n",
            "\n",
            "[2020-12-22 02:10:45] Features: 1/1 -- score: -0.15360172289438126[Parallel(n_jobs=1)]: Using backend SequentialBackend with 1 concurrent workers.\n",
            "[Parallel(n_jobs=1)]: Done   1 out of   1 | elapsed:    0.0s remaining:    0.0s\n"
          ],
          "name": "stderr"
        },
        {
          "output_type": "stream",
          "text": [
            "1 0.8530386740331491\n"
          ],
          "name": "stdout"
        },
        {
          "output_type": "stream",
          "text": [
            "[Parallel(n_jobs=1)]: Done  15 out of  15 | elapsed:    0.8s finished\n",
            "\n",
            "[2020-12-22 02:10:46] Features: 1/2 -- score: -0.15360172289438126[Parallel(n_jobs=1)]: Using backend SequentialBackend with 1 concurrent workers.\n",
            "[Parallel(n_jobs=1)]: Done   1 out of   1 | elapsed:    0.1s remaining:    0.0s\n",
            "[Parallel(n_jobs=1)]: Done  14 out of  14 | elapsed:    1.0s finished\n",
            "\n",
            "[2020-12-22 02:10:47] Features: 2/2 -- score: -0.15360172289438126[Parallel(n_jobs=1)]: Using backend SequentialBackend with 1 concurrent workers.\n",
            "[Parallel(n_jobs=1)]: Done   1 out of   1 | elapsed:    0.0s remaining:    0.0s\n"
          ],
          "name": "stderr"
        },
        {
          "output_type": "stream",
          "text": [
            "2 0.8640883977900552\n"
          ],
          "name": "stdout"
        },
        {
          "output_type": "stream",
          "text": [
            "[Parallel(n_jobs=1)]: Done  15 out of  15 | elapsed:    0.8s finished\n",
            "\n",
            "[2020-12-22 02:10:48] Features: 1/3 -- score: -0.15360172289438126[Parallel(n_jobs=1)]: Using backend SequentialBackend with 1 concurrent workers.\n",
            "[Parallel(n_jobs=1)]: Done   1 out of   1 | elapsed:    0.1s remaining:    0.0s\n",
            "[Parallel(n_jobs=1)]: Done  14 out of  14 | elapsed:    0.9s finished\n",
            "\n",
            "[2020-12-22 02:10:49] Features: 2/3 -- score: -0.15360172289438126[Parallel(n_jobs=1)]: Using backend SequentialBackend with 1 concurrent workers.\n",
            "[Parallel(n_jobs=1)]: Done   1 out of   1 | elapsed:    0.1s remaining:    0.0s\n",
            "[Parallel(n_jobs=1)]: Done  13 out of  13 | elapsed:    1.4s finished\n",
            "\n",
            "[2020-12-22 02:10:50] Features: 3/3 -- score: -0.14639630888164237[Parallel(n_jobs=1)]: Using backend SequentialBackend with 1 concurrent workers.\n",
            "[Parallel(n_jobs=1)]: Done   1 out of   1 | elapsed:    0.0s remaining:    0.0s\n"
          ],
          "name": "stderr"
        },
        {
          "output_type": "stream",
          "text": [
            "3 0.8861878453038674\n"
          ],
          "name": "stdout"
        },
        {
          "output_type": "stream",
          "text": [
            "[Parallel(n_jobs=1)]: Done  15 out of  15 | elapsed:    0.8s finished\n",
            "\n",
            "[2020-12-22 02:10:51] Features: 1/4 -- score: -0.15360172289438126[Parallel(n_jobs=1)]: Using backend SequentialBackend with 1 concurrent workers.\n",
            "[Parallel(n_jobs=1)]: Done   1 out of   1 | elapsed:    0.1s remaining:    0.0s\n",
            "[Parallel(n_jobs=1)]: Done  14 out of  14 | elapsed:    0.9s finished\n",
            "\n",
            "[2020-12-22 02:10:52] Features: 2/4 -- score: -0.15360172289438126[Parallel(n_jobs=1)]: Using backend SequentialBackend with 1 concurrent workers.\n",
            "[Parallel(n_jobs=1)]: Done   1 out of   1 | elapsed:    0.1s remaining:    0.0s\n",
            "[Parallel(n_jobs=1)]: Done  13 out of  13 | elapsed:    1.4s finished\n",
            "\n",
            "[2020-12-22 02:10:53] Features: 3/4 -- score: -0.14639630888164237[Parallel(n_jobs=1)]: Using backend SequentialBackend with 1 concurrent workers.\n",
            "[Parallel(n_jobs=1)]: Done   1 out of   1 | elapsed:    0.2s remaining:    0.0s\n",
            "[Parallel(n_jobs=1)]: Done  12 out of  12 | elapsed:    2.5s finished\n",
            "\n",
            "[2020-12-22 02:10:56] Features: 4/4 -- score: -0.1416136692742787[Parallel(n_jobs=1)]: Using backend SequentialBackend with 1 concurrent workers.\n",
            "[Parallel(n_jobs=1)]: Done   1 out of   1 | elapsed:    0.0s remaining:    0.0s\n"
          ],
          "name": "stderr"
        },
        {
          "output_type": "stream",
          "text": [
            "4 0.8596685082872928\n"
          ],
          "name": "stdout"
        },
        {
          "output_type": "stream",
          "text": [
            "[Parallel(n_jobs=1)]: Done  15 out of  15 | elapsed:    0.8s finished\n",
            "\n",
            "[2020-12-22 02:10:57] Features: 1/5 -- score: -0.15360172289438126[Parallel(n_jobs=1)]: Using backend SequentialBackend with 1 concurrent workers.\n",
            "[Parallel(n_jobs=1)]: Done   1 out of   1 | elapsed:    0.1s remaining:    0.0s\n",
            "[Parallel(n_jobs=1)]: Done  14 out of  14 | elapsed:    0.9s finished\n",
            "\n",
            "[2020-12-22 02:10:58] Features: 2/5 -- score: -0.15360172289438126[Parallel(n_jobs=1)]: Using backend SequentialBackend with 1 concurrent workers.\n",
            "[Parallel(n_jobs=1)]: Done   1 out of   1 | elapsed:    0.1s remaining:    0.0s\n",
            "[Parallel(n_jobs=1)]: Done  13 out of  13 | elapsed:    1.5s finished\n",
            "\n",
            "[2020-12-22 02:10:59] Features: 3/5 -- score: -0.14639630888164237[Parallel(n_jobs=1)]: Using backend SequentialBackend with 1 concurrent workers.\n",
            "[Parallel(n_jobs=1)]: Done   1 out of   1 | elapsed:    0.3s remaining:    0.0s\n",
            "[Parallel(n_jobs=1)]: Done  12 out of  12 | elapsed:    2.5s finished\n",
            "\n",
            "[2020-12-22 02:11:02] Features: 4/5 -- score: -0.1416136692742787[Parallel(n_jobs=1)]: Using backend SequentialBackend with 1 concurrent workers.\n",
            "[Parallel(n_jobs=1)]: Done   1 out of   1 | elapsed:    0.2s remaining:    0.0s\n",
            "[Parallel(n_jobs=1)]: Done  11 out of  11 | elapsed:    2.8s finished\n",
            "\n",
            "[2020-12-22 02:11:04] Features: 5/5 -- score: -0.13440825526153985[Parallel(n_jobs=1)]: Using backend SequentialBackend with 1 concurrent workers.\n",
            "[Parallel(n_jobs=1)]: Done   1 out of   1 | elapsed:    0.0s remaining:    0.0s\n"
          ],
          "name": "stderr"
        },
        {
          "output_type": "stream",
          "text": [
            "5 0.8729281767955801\n"
          ],
          "name": "stdout"
        },
        {
          "output_type": "stream",
          "text": [
            "[Parallel(n_jobs=1)]: Done  15 out of  15 | elapsed:    0.9s finished\n",
            "\n",
            "[2020-12-22 02:11:05] Features: 1/6 -- score: -0.15360172289438126[Parallel(n_jobs=1)]: Using backend SequentialBackend with 1 concurrent workers.\n",
            "[Parallel(n_jobs=1)]: Done   1 out of   1 | elapsed:    0.1s remaining:    0.0s\n",
            "[Parallel(n_jobs=1)]: Done  14 out of  14 | elapsed:    0.9s finished\n",
            "\n",
            "[2020-12-22 02:11:06] Features: 2/6 -- score: -0.15360172289438126[Parallel(n_jobs=1)]: Using backend SequentialBackend with 1 concurrent workers.\n",
            "[Parallel(n_jobs=1)]: Done   1 out of   1 | elapsed:    0.1s remaining:    0.0s\n",
            "[Parallel(n_jobs=1)]: Done  13 out of  13 | elapsed:    1.5s finished\n",
            "\n",
            "[2020-12-22 02:11:08] Features: 3/6 -- score: -0.14639630888164237[Parallel(n_jobs=1)]: Using backend SequentialBackend with 1 concurrent workers.\n",
            "[Parallel(n_jobs=1)]: Done   1 out of   1 | elapsed:    0.2s remaining:    0.0s\n",
            "[Parallel(n_jobs=1)]: Done  12 out of  12 | elapsed:    2.5s finished\n",
            "\n",
            "[2020-12-22 02:11:10] Features: 4/6 -- score: -0.1416136692742787[Parallel(n_jobs=1)]: Using backend SequentialBackend with 1 concurrent workers.\n",
            "[Parallel(n_jobs=1)]: Done   1 out of   1 | elapsed:    0.2s remaining:    0.0s\n",
            "[Parallel(n_jobs=1)]: Done  11 out of  11 | elapsed:    2.7s finished\n",
            "\n",
            "[2020-12-22 02:11:13] Features: 5/6 -- score: -0.13440825526153985[Parallel(n_jobs=1)]: Using backend SequentialBackend with 1 concurrent workers.\n",
            "[Parallel(n_jobs=1)]: Done   1 out of   1 | elapsed:    0.3s remaining:    0.0s\n",
            "[Parallel(n_jobs=1)]: Done  10 out of  10 | elapsed:    3.0s finished\n",
            "\n",
            "[2020-12-22 02:11:16] Features: 6/6 -- score: -0.13198548085616477[Parallel(n_jobs=1)]: Using backend SequentialBackend with 1 concurrent workers.\n",
            "[Parallel(n_jobs=1)]: Done   1 out of   1 | elapsed:    0.0s remaining:    0.0s\n"
          ],
          "name": "stderr"
        },
        {
          "output_type": "stream",
          "text": [
            "6 0.8674033149171271\n"
          ],
          "name": "stdout"
        },
        {
          "output_type": "stream",
          "text": [
            "[Parallel(n_jobs=1)]: Done  15 out of  15 | elapsed:    0.9s finished\n",
            "\n",
            "[2020-12-22 02:11:17] Features: 1/7 -- score: -0.15360172289438126[Parallel(n_jobs=1)]: Using backend SequentialBackend with 1 concurrent workers.\n",
            "[Parallel(n_jobs=1)]: Done   1 out of   1 | elapsed:    0.1s remaining:    0.0s\n",
            "[Parallel(n_jobs=1)]: Done  14 out of  14 | elapsed:    1.0s finished\n",
            "\n",
            "[2020-12-22 02:11:18] Features: 2/7 -- score: -0.15360172289438126[Parallel(n_jobs=1)]: Using backend SequentialBackend with 1 concurrent workers.\n",
            "[Parallel(n_jobs=1)]: Done   1 out of   1 | elapsed:    0.1s remaining:    0.0s\n",
            "[Parallel(n_jobs=1)]: Done  13 out of  13 | elapsed:    1.5s finished\n",
            "\n",
            "[2020-12-22 02:11:19] Features: 3/7 -- score: -0.14639630888164237[Parallel(n_jobs=1)]: Using backend SequentialBackend with 1 concurrent workers.\n",
            "[Parallel(n_jobs=1)]: Done   1 out of   1 | elapsed:    0.2s remaining:    0.0s\n",
            "[Parallel(n_jobs=1)]: Done  12 out of  12 | elapsed:    2.4s finished\n",
            "\n",
            "[2020-12-22 02:11:22] Features: 4/7 -- score: -0.1416136692742787[Parallel(n_jobs=1)]: Using backend SequentialBackend with 1 concurrent workers.\n",
            "[Parallel(n_jobs=1)]: Done   1 out of   1 | elapsed:    0.2s remaining:    0.0s\n",
            "[Parallel(n_jobs=1)]: Done  11 out of  11 | elapsed:    2.8s finished\n",
            "\n",
            "[2020-12-22 02:11:25] Features: 5/7 -- score: -0.13440825526153985[Parallel(n_jobs=1)]: Using backend SequentialBackend with 1 concurrent workers.\n",
            "[Parallel(n_jobs=1)]: Done   1 out of   1 | elapsed:    0.3s remaining:    0.0s\n",
            "[Parallel(n_jobs=1)]: Done  10 out of  10 | elapsed:    3.1s finished\n",
            "\n",
            "[2020-12-22 02:11:28] Features: 6/7 -- score: -0.13198548085616477[Parallel(n_jobs=1)]: Using backend SequentialBackend with 1 concurrent workers.\n",
            "[Parallel(n_jobs=1)]: Done   1 out of   1 | elapsed:    0.4s remaining:    0.0s\n"
          ],
          "name": "stderr"
        },
        {
          "output_type": "stream",
          "text": [
            "7 0.8828729281767956\n"
          ],
          "name": "stdout"
        },
        {
          "output_type": "stream",
          "text": [
            "[Parallel(n_jobs=1)]: Done   9 out of   9 | elapsed:    3.3s finished\n",
            "\n",
            "[2020-12-22 02:11:31] Features: 7/7 -- score: -0.12960464591971393"
          ],
          "name": "stderr"
        }
      ]
    },
    {
      "cell_type": "code",
      "metadata": {
        "colab": {
          "base_uri": "https://localhost:8080/"
        },
        "id": "gcTH58S-eYh3",
        "outputId": "85e42c80-17a8-460a-b076-3fa8110fbee3"
      },
      "source": [
        "d = {}\r\n",
        "for i in range(8,1,-1):\r\n",
        "  sfs = SequentialFeatureSelector(LogisticRegression(), k_features=i, cv=5, n_jobs=1, forward=True, scoring='r2',verbose=2)\r\n",
        "  sfs.fit(x,y)\r\n",
        "\r\n",
        "  x_bwd = df1[list(sfs.k_feature_names_)]\r\n",
        "  y_bwd = df1['TenYearCHD']\r\n",
        "  x_bwd_train, x_bwd_test, y_bwd_train, y_bwd_test = train_test_split(x_bwd, y_bwd, test_size=0.25)\r\n",
        "\r\n",
        "  lr = LogisticRegression()\r\n",
        "  lr.fit(x_bwd_train, y_bwd_train)\r\n",
        "  d.setdefault(i, lr.score(x_bwd_test, y_bwd_test))"
      ],
      "execution_count": 60,
      "outputs": [
        {
          "output_type": "stream",
          "text": [
            "[Parallel(n_jobs=1)]: Using backend SequentialBackend with 1 concurrent workers.\n",
            "[Parallel(n_jobs=1)]: Done   1 out of   1 | elapsed:    0.0s remaining:    0.0s\n",
            "[Parallel(n_jobs=1)]: Done  15 out of  15 | elapsed:    0.8s finished\n",
            "\n",
            "[2020-12-22 02:11:32] Features: 1/8 -- score: -0.15360172289438126[Parallel(n_jobs=1)]: Using backend SequentialBackend with 1 concurrent workers.\n",
            "[Parallel(n_jobs=1)]: Done   1 out of   1 | elapsed:    0.1s remaining:    0.0s\n",
            "[Parallel(n_jobs=1)]: Done  14 out of  14 | elapsed:    1.0s finished\n",
            "\n",
            "[2020-12-22 02:11:33] Features: 2/8 -- score: -0.15360172289438126[Parallel(n_jobs=1)]: Using backend SequentialBackend with 1 concurrent workers.\n",
            "[Parallel(n_jobs=1)]: Done   1 out of   1 | elapsed:    0.1s remaining:    0.0s\n",
            "[Parallel(n_jobs=1)]: Done  13 out of  13 | elapsed:    1.5s finished\n",
            "\n",
            "[2020-12-22 02:11:34] Features: 3/8 -- score: -0.14639630888164237[Parallel(n_jobs=1)]: Using backend SequentialBackend with 1 concurrent workers.\n",
            "[Parallel(n_jobs=1)]: Done   1 out of   1 | elapsed:    0.2s remaining:    0.0s\n",
            "[Parallel(n_jobs=1)]: Done  12 out of  12 | elapsed:    2.5s finished\n",
            "\n",
            "[2020-12-22 02:11:37] Features: 4/8 -- score: -0.1416136692742787[Parallel(n_jobs=1)]: Using backend SequentialBackend with 1 concurrent workers.\n",
            "[Parallel(n_jobs=1)]: Done   1 out of   1 | elapsed:    0.2s remaining:    0.0s\n",
            "[Parallel(n_jobs=1)]: Done  11 out of  11 | elapsed:    2.8s finished\n",
            "\n",
            "[2020-12-22 02:11:40] Features: 5/8 -- score: -0.13440825526153985[Parallel(n_jobs=1)]: Using backend SequentialBackend with 1 concurrent workers.\n",
            "[Parallel(n_jobs=1)]: Done   1 out of   1 | elapsed:    0.3s remaining:    0.0s\n",
            "[Parallel(n_jobs=1)]: Done  10 out of  10 | elapsed:    3.1s finished\n",
            "\n",
            "[2020-12-22 02:11:43] Features: 6/8 -- score: -0.13198548085616477[Parallel(n_jobs=1)]: Using backend SequentialBackend with 1 concurrent workers.\n",
            "[Parallel(n_jobs=1)]: Done   1 out of   1 | elapsed:    0.4s remaining:    0.0s\n",
            "[Parallel(n_jobs=1)]: Done   9 out of   9 | elapsed:    3.3s finished\n",
            "\n",
            "[2020-12-22 02:11:46] Features: 7/8 -- score: -0.12960464591971393[Parallel(n_jobs=1)]: Using backend SequentialBackend with 1 concurrent workers.\n",
            "[Parallel(n_jobs=1)]: Done   1 out of   1 | elapsed:    0.4s remaining:    0.0s\n",
            "[Parallel(n_jobs=1)]: Done   8 out of   8 | elapsed:    3.0s finished\n",
            "\n",
            "[2020-12-22 02:11:49] Features: 8/8 -- score: -0.12960464591971393[Parallel(n_jobs=1)]: Using backend SequentialBackend with 1 concurrent workers.\n",
            "[Parallel(n_jobs=1)]: Done   1 out of   1 | elapsed:    0.0s remaining:    0.0s\n",
            "[Parallel(n_jobs=1)]: Done  15 out of  15 | elapsed:    0.8s finished\n",
            "\n",
            "[2020-12-22 02:11:50] Features: 1/7 -- score: -0.15360172289438126[Parallel(n_jobs=1)]: Using backend SequentialBackend with 1 concurrent workers.\n",
            "[Parallel(n_jobs=1)]: Done   1 out of   1 | elapsed:    0.1s remaining:    0.0s\n",
            "[Parallel(n_jobs=1)]: Done  14 out of  14 | elapsed:    1.0s finished\n",
            "\n",
            "[2020-12-22 02:11:51] Features: 2/7 -- score: -0.15360172289438126[Parallel(n_jobs=1)]: Using backend SequentialBackend with 1 concurrent workers.\n",
            "[Parallel(n_jobs=1)]: Done   1 out of   1 | elapsed:    0.1s remaining:    0.0s\n",
            "[Parallel(n_jobs=1)]: Done  13 out of  13 | elapsed:    1.5s finished\n",
            "\n",
            "[2020-12-22 02:11:53] Features: 3/7 -- score: -0.14639630888164237[Parallel(n_jobs=1)]: Using backend SequentialBackend with 1 concurrent workers.\n",
            "[Parallel(n_jobs=1)]: Done   1 out of   1 | elapsed:    0.2s remaining:    0.0s\n",
            "[Parallel(n_jobs=1)]: Done  12 out of  12 | elapsed:    2.4s finished\n",
            "\n",
            "[2020-12-22 02:11:55] Features: 4/7 -- score: -0.1416136692742787[Parallel(n_jobs=1)]: Using backend SequentialBackend with 1 concurrent workers.\n",
            "[Parallel(n_jobs=1)]: Done   1 out of   1 | elapsed:    0.2s remaining:    0.0s\n",
            "[Parallel(n_jobs=1)]: Done  11 out of  11 | elapsed:    2.8s finished\n",
            "\n",
            "[2020-12-22 02:11:58] Features: 5/7 -- score: -0.13440825526153985[Parallel(n_jobs=1)]: Using backend SequentialBackend with 1 concurrent workers.\n",
            "[Parallel(n_jobs=1)]: Done   1 out of   1 | elapsed:    0.3s remaining:    0.0s\n",
            "[Parallel(n_jobs=1)]: Done  10 out of  10 | elapsed:    2.9s finished\n",
            "\n",
            "[2020-12-22 02:12:01] Features: 6/7 -- score: -0.13198548085616477[Parallel(n_jobs=1)]: Using backend SequentialBackend with 1 concurrent workers.\n",
            "[Parallel(n_jobs=1)]: Done   1 out of   1 | elapsed:    0.4s remaining:    0.0s\n",
            "[Parallel(n_jobs=1)]: Done   9 out of   9 | elapsed:    3.3s finished\n",
            "\n",
            "[2020-12-22 02:12:04] Features: 7/7 -- score: -0.12960464591971393[Parallel(n_jobs=1)]: Using backend SequentialBackend with 1 concurrent workers.\n",
            "[Parallel(n_jobs=1)]: Done   1 out of   1 | elapsed:    0.0s remaining:    0.0s\n",
            "[Parallel(n_jobs=1)]: Done  15 out of  15 | elapsed:    0.8s finished\n",
            "\n",
            "[2020-12-22 02:12:05] Features: 1/6 -- score: -0.15360172289438126[Parallel(n_jobs=1)]: Using backend SequentialBackend with 1 concurrent workers.\n",
            "[Parallel(n_jobs=1)]: Done   1 out of   1 | elapsed:    0.1s remaining:    0.0s\n",
            "[Parallel(n_jobs=1)]: Done  14 out of  14 | elapsed:    0.9s finished\n",
            "\n",
            "[2020-12-22 02:12:06] Features: 2/6 -- score: -0.15360172289438126[Parallel(n_jobs=1)]: Using backend SequentialBackend with 1 concurrent workers.\n",
            "[Parallel(n_jobs=1)]: Done   1 out of   1 | elapsed:    0.1s remaining:    0.0s\n",
            "[Parallel(n_jobs=1)]: Done  13 out of  13 | elapsed:    1.4s finished\n",
            "\n",
            "[2020-12-22 02:12:07] Features: 3/6 -- score: -0.14639630888164237[Parallel(n_jobs=1)]: Using backend SequentialBackend with 1 concurrent workers.\n",
            "[Parallel(n_jobs=1)]: Done   1 out of   1 | elapsed:    0.2s remaining:    0.0s\n",
            "[Parallel(n_jobs=1)]: Done  12 out of  12 | elapsed:    2.4s finished\n",
            "\n",
            "[2020-12-22 02:12:10] Features: 4/6 -- score: -0.1416136692742787[Parallel(n_jobs=1)]: Using backend SequentialBackend with 1 concurrent workers.\n",
            "[Parallel(n_jobs=1)]: Done   1 out of   1 | elapsed:    0.2s remaining:    0.0s\n",
            "[Parallel(n_jobs=1)]: Done  11 out of  11 | elapsed:    2.8s finished\n",
            "\n",
            "[2020-12-22 02:12:12] Features: 5/6 -- score: -0.13440825526153985[Parallel(n_jobs=1)]: Using backend SequentialBackend with 1 concurrent workers.\n",
            "[Parallel(n_jobs=1)]: Done   1 out of   1 | elapsed:    0.3s remaining:    0.0s\n",
            "[Parallel(n_jobs=1)]: Done  10 out of  10 | elapsed:    3.0s finished\n",
            "\n",
            "[2020-12-22 02:12:15] Features: 6/6 -- score: -0.13198548085616477[Parallel(n_jobs=1)]: Using backend SequentialBackend with 1 concurrent workers.\n",
            "[Parallel(n_jobs=1)]: Done   1 out of   1 | elapsed:    0.1s remaining:    0.0s\n",
            "[Parallel(n_jobs=1)]: Done  15 out of  15 | elapsed:    0.8s finished\n",
            "\n",
            "[2020-12-22 02:12:16] Features: 1/5 -- score: -0.15360172289438126[Parallel(n_jobs=1)]: Using backend SequentialBackend with 1 concurrent workers.\n",
            "[Parallel(n_jobs=1)]: Done   1 out of   1 | elapsed:    0.1s remaining:    0.0s\n",
            "[Parallel(n_jobs=1)]: Done  14 out of  14 | elapsed:    1.0s finished\n",
            "\n",
            "[2020-12-22 02:12:17] Features: 2/5 -- score: -0.15360172289438126[Parallel(n_jobs=1)]: Using backend SequentialBackend with 1 concurrent workers.\n",
            "[Parallel(n_jobs=1)]: Done   1 out of   1 | elapsed:    0.1s remaining:    0.0s\n",
            "[Parallel(n_jobs=1)]: Done  13 out of  13 | elapsed:    1.5s finished\n",
            "\n",
            "[2020-12-22 02:12:19] Features: 3/5 -- score: -0.14639630888164237[Parallel(n_jobs=1)]: Using backend SequentialBackend with 1 concurrent workers.\n",
            "[Parallel(n_jobs=1)]: Done   1 out of   1 | elapsed:    0.2s remaining:    0.0s\n",
            "[Parallel(n_jobs=1)]: Done  12 out of  12 | elapsed:    2.4s finished\n",
            "\n",
            "[2020-12-22 02:12:21] Features: 4/5 -- score: -0.1416136692742787[Parallel(n_jobs=1)]: Using backend SequentialBackend with 1 concurrent workers.\n",
            "[Parallel(n_jobs=1)]: Done   1 out of   1 | elapsed:    0.2s remaining:    0.0s\n",
            "[Parallel(n_jobs=1)]: Done  11 out of  11 | elapsed:    2.7s finished\n",
            "\n",
            "[2020-12-22 02:12:24] Features: 5/5 -- score: -0.13440825526153985[Parallel(n_jobs=1)]: Using backend SequentialBackend with 1 concurrent workers.\n",
            "[Parallel(n_jobs=1)]: Done   1 out of   1 | elapsed:    0.1s remaining:    0.0s\n",
            "[Parallel(n_jobs=1)]: Done  15 out of  15 | elapsed:    0.9s finished\n",
            "\n",
            "[2020-12-22 02:12:25] Features: 1/4 -- score: -0.15360172289438126[Parallel(n_jobs=1)]: Using backend SequentialBackend with 1 concurrent workers.\n",
            "[Parallel(n_jobs=1)]: Done   1 out of   1 | elapsed:    0.1s remaining:    0.0s\n",
            "[Parallel(n_jobs=1)]: Done  14 out of  14 | elapsed:    1.0s finished\n",
            "\n",
            "[2020-12-22 02:12:26] Features: 2/4 -- score: -0.15360172289438126[Parallel(n_jobs=1)]: Using backend SequentialBackend with 1 concurrent workers.\n",
            "[Parallel(n_jobs=1)]: Done   1 out of   1 | elapsed:    0.1s remaining:    0.0s\n",
            "[Parallel(n_jobs=1)]: Done  13 out of  13 | elapsed:    1.5s finished\n",
            "\n",
            "[2020-12-22 02:12:27] Features: 3/4 -- score: -0.14639630888164237[Parallel(n_jobs=1)]: Using backend SequentialBackend with 1 concurrent workers.\n",
            "[Parallel(n_jobs=1)]: Done   1 out of   1 | elapsed:    0.2s remaining:    0.0s\n",
            "[Parallel(n_jobs=1)]: Done  12 out of  12 | elapsed:    2.5s finished\n",
            "\n",
            "[2020-12-22 02:12:30] Features: 4/4 -- score: -0.1416136692742787[Parallel(n_jobs=1)]: Using backend SequentialBackend with 1 concurrent workers.\n",
            "[Parallel(n_jobs=1)]: Done   1 out of   1 | elapsed:    0.1s remaining:    0.0s\n",
            "[Parallel(n_jobs=1)]: Done  15 out of  15 | elapsed:    0.8s finished\n",
            "\n",
            "[2020-12-22 02:12:31] Features: 1/3 -- score: -0.15360172289438126[Parallel(n_jobs=1)]: Using backend SequentialBackend with 1 concurrent workers.\n",
            "[Parallel(n_jobs=1)]: Done   1 out of   1 | elapsed:    0.1s remaining:    0.0s\n",
            "[Parallel(n_jobs=1)]: Done  14 out of  14 | elapsed:    0.9s finished\n",
            "\n",
            "[2020-12-22 02:12:31] Features: 2/3 -- score: -0.15360172289438126[Parallel(n_jobs=1)]: Using backend SequentialBackend with 1 concurrent workers.\n",
            "[Parallel(n_jobs=1)]: Done   1 out of   1 | elapsed:    0.1s remaining:    0.0s\n",
            "[Parallel(n_jobs=1)]: Done  13 out of  13 | elapsed:    1.4s finished\n",
            "\n",
            "[2020-12-22 02:12:33] Features: 3/3 -- score: -0.14639630888164237[Parallel(n_jobs=1)]: Using backend SequentialBackend with 1 concurrent workers.\n",
            "[Parallel(n_jobs=1)]: Done   1 out of   1 | elapsed:    0.0s remaining:    0.0s\n",
            "[Parallel(n_jobs=1)]: Done  15 out of  15 | elapsed:    0.7s finished\n",
            "\n",
            "[2020-12-22 02:12:34] Features: 1/2 -- score: -0.15360172289438126[Parallel(n_jobs=1)]: Using backend SequentialBackend with 1 concurrent workers.\n",
            "[Parallel(n_jobs=1)]: Done   1 out of   1 | elapsed:    0.1s remaining:    0.0s\n",
            "[Parallel(n_jobs=1)]: Done  14 out of  14 | elapsed:    0.9s finished\n",
            "\n",
            "[2020-12-22 02:12:35] Features: 2/2 -- score: -0.15360172289438126"
          ],
          "name": "stderr"
        }
      ]
    },
    {
      "cell_type": "code",
      "metadata": {
        "colab": {
          "base_uri": "https://localhost:8080/"
        },
        "id": "VfUAy2pjfLSM",
        "outputId": "6d1fdf02-42aa-43a0-e638-c771e2536373"
      },
      "source": [
        "for k, v in d.items():\r\n",
        "  print(k, v)"
      ],
      "execution_count": 61,
      "outputs": [
        {
          "output_type": "stream",
          "text": [
            "8 0.8519337016574585\n",
            "7 0.876243093922652\n",
            "6 0.8640883977900552\n",
            "5 0.8696132596685083\n",
            "4 0.8629834254143647\n",
            "3 0.8806629834254144\n",
            "2 0.8674033149171271\n"
          ],
          "name": "stdout"
        }
      ]
    },
    {
      "cell_type": "markdown",
      "metadata": {
        "id": "Qskt9LFZhjpk"
      },
      "source": [
        "**So from the Forward and Backward selection test we realize that it'll be in our best interest to choose all the top 8 columns since the difference between r2 score with 8 columns and 5 columns is very small.**\r\n",
        "\r\n",
        "**Also, the Annova test helped us to select the top 8 columsn which make a difference in the r2_score and for our model we are going to rely on the Annova test scores. r2_score = 0.877-0.884**"
      ]
    },
    {
      "cell_type": "code",
      "metadata": {
        "id": "_GjYVetYig6y"
      },
      "source": [
        "from imblearn.over_sampling import SMOTE\r\n",
        "from collections import Counter"
      ],
      "execution_count": 88,
      "outputs": []
    },
    {
      "cell_type": "code",
      "metadata": {
        "id": "1Rl4WjtFig3q",
        "colab": {
          "base_uri": "https://localhost:8080/"
        },
        "outputId": "4cfa1eaa-69c8-4cfe-8951-8468587b71df"
      },
      "source": [
        "smote = SMOTE(random_state=1,   )\r\n",
        "x_train_sm, y_train_sm = smote.fit_resample(x_train, y_train)\r\n",
        "print('Resampled dataset shape %s' % Counter(y_train_sm))"
      ],
      "execution_count": 89,
      "outputs": [
        {
          "output_type": "stream",
          "text": [
            "Resampled dataset shape Counter({0: 2180, 1: 2180})\n"
          ],
          "name": "stdout"
        }
      ]
    },
    {
      "cell_type": "code",
      "metadata": {
        "colab": {
          "base_uri": "https://localhost:8080/"
        },
        "id": "3V_hTPt9ig10",
        "outputId": "846ee0f7-11fd-4191-f041-5359dace4dd3"
      },
      "source": [
        "log_sm = LogisticRegression(solver='liblinear', fit_intercept=True)\r\n",
        "log_sm.fit(x_train_sm, y_train_sm)"
      ],
      "execution_count": 90,
      "outputs": [
        {
          "output_type": "execute_result",
          "data": {
            "text/plain": [
              "LogisticRegression(C=1.0, class_weight=None, dual=False, fit_intercept=True,\n",
              "                   intercept_scaling=1, l1_ratio=None, max_iter=100,\n",
              "                   multi_class='auto', n_jobs=None, penalty='l2',\n",
              "                   random_state=None, solver='liblinear', tol=0.0001, verbose=0,\n",
              "                   warm_start=False)"
            ]
          },
          "metadata": {
            "tags": []
          },
          "execution_count": 90
        }
      ]
    },
    {
      "cell_type": "code",
      "metadata": {
        "colab": {
          "base_uri": "https://localhost:8080/"
        },
        "id": "RfV6KZM0oERV",
        "outputId": "df5b422e-8da3-4e09-9461-fb9fd36d1971"
      },
      "source": [
        "y_pred_train = log_sm.predict(x_train_sm)\r\n",
        "y_pred_test = log_sm.predict(x_test)\r\n",
        "\r\n",
        "print(\"\\nConfusion matrix-Train:\\n\",confusion_matrix(y_train_sm, y_pred_train))\r\n",
        "print(\"\\nOverall accuracy-Train:\\n\",accuracy_score(y_train_sm, y_pred_train))\r\n",
        "\r\n",
        "print(\"\\nConfusion matrix-Test:\\n\",confusion_matrix(y_test, y_pred_test))\r\n",
        "print(\"\\nOverall accuracy-Test:\\n\",accuracy_score(y_test, y_pred_test))\r\n",
        "print(\"\\nClassification report:\\n\",classification_report(y_test, y_pred_test))\r\n",
        "print(\"Score\")"
      ],
      "execution_count": 102,
      "outputs": [
        {
          "output_type": "stream",
          "text": [
            "\n",
            "Confusion matrix-Train:\n",
            " [[1442  738]\n",
            " [ 672 1508]]\n",
            "\n",
            "Overall accuracy-Train:\n",
            " 0.676605504587156\n",
            "\n",
            "Confusion matrix-Test:\n",
            " [[636 322]\n",
            " [ 44  84]]\n",
            "\n",
            "Overall accuracy-Test:\n",
            " 0.6629834254143646\n",
            "\n",
            "Classification report:\n",
            "               precision    recall  f1-score   support\n",
            "\n",
            "           0       0.94      0.66      0.78       958\n",
            "           1       0.21      0.66      0.31       128\n",
            "\n",
            "    accuracy                           0.66      1086\n",
            "   macro avg       0.57      0.66      0.55      1086\n",
            "weighted avg       0.85      0.66      0.72      1086\n",
            "\n",
            "Score\n"
          ],
          "name": "stdout"
        }
      ]
    },
    {
      "cell_type": "code",
      "metadata": {
        "id": "Mq4isMK5oNJb"
      },
      "source": [
        "from sklearn.tree import DecisionTreeClassifier"
      ],
      "execution_count": 92,
      "outputs": []
    },
    {
      "cell_type": "code",
      "metadata": {
        "colab": {
          "base_uri": "https://localhost:8080/"
        },
        "id": "Gi9kYh77oQ15",
        "outputId": "4fedd9fe-0eb6-4053-8704-1a52a49a1ddd"
      },
      "source": [
        "dtc = DecisionTreeClassifier()\r\n",
        "dtc.fit(x_train, y_train)\r\n",
        "dtc.score(x_test, y_test)"
      ],
      "execution_count": 93,
      "outputs": [
        {
          "output_type": "execute_result",
          "data": {
            "text/plain": [
              "0.7670349907918969"
            ]
          },
          "metadata": {
            "tags": []
          },
          "execution_count": 93
        }
      ]
    },
    {
      "cell_type": "code",
      "metadata": {
        "colab": {
          "base_uri": "https://localhost:8080/"
        },
        "id": "sgsRe2k_tuW5",
        "outputId": "5e28a811-1e67-4a19-b743-26c2e300ba78"
      },
      "source": [
        "dtc = DecisionTreeClassifier()\r\n",
        "dtc.fit(x_train_sm, y_train_sm)\r\n",
        "dtc.score(x_test, y_test)"
      ],
      "execution_count": 94,
      "outputs": [
        {
          "output_type": "execute_result",
          "data": {
            "text/plain": [
              "0.7523020257826888"
            ]
          },
          "metadata": {
            "tags": []
          },
          "execution_count": 94
        }
      ]
    },
    {
      "cell_type": "code",
      "metadata": {
        "id": "4A_mzmjQs2b-"
      },
      "source": [
        "from sklearn.neighbors import KNeighborsClassifier"
      ],
      "execution_count": 95,
      "outputs": []
    },
    {
      "cell_type": "code",
      "metadata": {
        "colab": {
          "base_uri": "https://localhost:8080/"
        },
        "id": "juk-eIzes8lk",
        "outputId": "9d23326f-3b07-46d2-d34d-80a13c39b9f1"
      },
      "source": [
        "for i in range(1,10):\r\n",
        "  knc = KNeighborsClassifier(n_neighbors=i)\r\n",
        "  knc.fit(x_train, y_train)\r\n",
        "  print(i, knc.score(x_test, y_test))"
      ],
      "execution_count": 96,
      "outputs": [
        {
          "output_type": "stream",
          "text": [
            "1 0.7937384898710865\n",
            "2 0.8655616942909761\n",
            "3 0.8379373848987108\n",
            "4 0.8664825046040515\n",
            "5 0.8627992633517495\n",
            "6 0.8747697974217311\n",
            "7 0.8701657458563536\n",
            "8 0.8793738489871087\n",
            "9 0.8802946593001841\n"
          ],
          "name": "stdout"
        }
      ]
    },
    {
      "cell_type": "code",
      "metadata": {
        "colab": {
          "base_uri": "https://localhost:8080/"
        },
        "id": "E6KNzUj6tKRh",
        "outputId": "2c0b7113-88bb-4c99-af28-5cbf9622b638"
      },
      "source": [
        "for i in range(1,10):\r\n",
        "  knc = KNeighborsClassifier(n_neighbors=i)\r\n",
        "  knc.fit(x_train_sm, y_train_sm)\r\n",
        "  print(i, knc.score(x_test, y_test))"
      ],
      "execution_count": 97,
      "outputs": [
        {
          "output_type": "stream",
          "text": [
            "1 0.7412523020257827\n",
            "2 0.7790055248618785\n",
            "3 0.6915285451197053\n",
            "4 0.7246777163904236\n",
            "5 0.6583793738489871\n",
            "6 0.6933701657458563\n",
            "7 0.651012891344383\n",
            "8 0.6823204419889503\n",
            "9 0.643646408839779\n"
          ],
          "name": "stdout"
        }
      ]
    },
    {
      "cell_type": "code",
      "metadata": {
        "colab": {
          "base_uri": "https://localhost:8080/"
        },
        "id": "wbDGlVAIyuFc",
        "outputId": "7e50aa3c-cc6c-42c4-b311-1b720ce3a028"
      },
      "source": [
        "#Final model \r\n",
        "KNC = KNeighborsClassifier(n_neighbors=2)\r\n",
        "KNC.fit(x_train_sm, y_train_sm)\r\n",
        "print(\"Score:\",KNC.score(x_test, y_test))\r\n",
        "y_pred_knc=KNC.predict(x_test)\r\n",
        "print(\"\\nClassification report:\\n\",classification_report(y_test, y_pred_knc))"
      ],
      "execution_count": 98,
      "outputs": [
        {
          "output_type": "stream",
          "text": [
            "Score: 0.7790055248618785\n",
            "\n",
            "Classification report:\n",
            "               precision    recall  f1-score   support\n",
            "\n",
            "           0       0.90      0.85      0.87       958\n",
            "           1       0.19      0.27      0.22       128\n",
            "\n",
            "    accuracy                           0.78      1086\n",
            "   macro avg       0.54      0.56      0.55      1086\n",
            "weighted avg       0.81      0.78      0.79      1086\n",
            "\n"
          ],
          "name": "stdout"
        }
      ]
    },
    {
      "cell_type": "markdown",
      "metadata": {
        "id": "hlrqn11xtzZO"
      },
      "source": [
        "As we notice both KNeighborsClassifier and DecisionTreeClassifier are giving really high r2_score when we are using oversampled dataset.\r\n",
        "\r\n",
        "---\r\n",
        "\r\n",
        "\r\n",
        "\r\n",
        "**Result : KNC and DTC both are really good for modelling but we will choose to go with KNC with n_neighbors = 2 since it is giving is the best output scores.**\r\n",
        "\r\n",
        "\r\n",
        "\r\n",
        "\r\n",
        "\r\n",
        "\r\n",
        "\r\n",
        "\r\n",
        "\r\n",
        "\r\n"
      ]
    },
    {
      "cell_type": "code",
      "metadata": {
        "colab": {
          "base_uri": "https://localhost:8080/"
        },
        "id": "crsZ20Qntq5q",
        "outputId": "21a105a3-e06f-4e40-d72d-e2bf33617396"
      },
      "source": [
        "def pred_heart_disease():\r\n",
        "  predic_columns = []\r\n",
        "  columns = ['cigsPerDay',\r\n",
        "              'sysBP',\r\n",
        "              'age',\r\n",
        "              'totChol',\r\n",
        "              'prevalentHyp',\r\n",
        "              'diaBP',\r\n",
        "              'sex',\r\n",
        "              'prevalentStroke']\r\n",
        "  print(\"Input the patients information: \")\r\n",
        "\r\n",
        "  cigs = int(input(\"Enter the number of cigs per day in number: \"))\r\n",
        "  predic_columns.append(cigs)\r\n",
        "  sysBP = input(\"Enter the sysBP of the patient: \")\r\n",
        "  predic_columns.append(sysBP)\r\n",
        "  age = int(input(\"Enter the patients age: \"))\r\n",
        "  predic_columns.append(age)\r\n",
        "  totChol = int(input(\"Enter the cholestrol: \"))\r\n",
        "  predic_columns.append(totChol)\r\n",
        "  prevalentHyp = int(input(\"Enter prevalent hyp: \"))\r\n",
        "  predic_columns.append(prevalentHyp)\r\n",
        "  diaBP = int(input(\"Enter the diaBP: \"))\r\n",
        "  predic_columns.append(diaBP)\r\n",
        "  sex = int(input(\"Enter the sex: male=1, female=0: \"))\r\n",
        "  predic_columns.append(sex)\r\n",
        "  prevalentStroke = int(input(\"Enter if patient has a history of prevalent stroke: \"))\r\n",
        "  predic_columns.append(prevalentStroke)\r\n",
        "  \r\n",
        "  patient_data = dict(zip(columns, predic_columns))\r\n",
        "  df3 = pd.DataFrame(patient_data, index=[0])\r\n",
        "  prediction = KNC.predict(df3)\r\n",
        "  print(\"\\n\")\r\n",
        "  print(\"Result: \")\r\n",
        "  if prediction==1:\r\n",
        "    print(\"patient will develop a heart disease.\")\r\n",
        "  else:\r\n",
        "    print(\"patient will not develop a heart disease.\")\r\n",
        "pred_heart_disease()"
      ],
      "execution_count": 100,
      "outputs": [
        {
          "output_type": "stream",
          "text": [
            "Input the patients information: \n",
            "Enter the number of cigs per day in number: 30\n",
            "Enter the sysBP of the patient: 150\n",
            "Enter the patients age: 61\n",
            "Enter the cholestrol: 225\n",
            "Enter prevalent hyp: 1\n",
            "Enter the diaBP: 95\n",
            "Enter the sex: male=1, female=0: 0\n",
            "Enter if patient has a history of prevalent stroke: 0\n",
            "\n",
            "\n",
            "Result: \n",
            "patient will develop a heart disease.\n"
          ],
          "name": "stdout"
        }
      ]
    },
    {
      "cell_type": "code",
      "metadata": {
        "id": "89P6XYwl73zQ"
      },
      "source": [
        ""
      ],
      "execution_count": 73,
      "outputs": []
    }
  ]
}